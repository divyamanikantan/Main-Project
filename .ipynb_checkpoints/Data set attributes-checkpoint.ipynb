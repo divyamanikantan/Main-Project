{
 "cells": [
  {
   "cell_type": "code",
   "execution_count": 1,
   "metadata": {},
   "outputs": [],
   "source": [
    "import pandas as pd\n",
    "import numpy as np"
   ]
  },
  {
   "cell_type": "code",
   "execution_count": 2,
   "metadata": {},
   "outputs": [],
   "source": [
    "data1=pd.read_csv('IRAhandle_tweets_1.csv')\n",
    "data2=pd.read_csv('IRAhandle_tweets_2.csv')\n",
    "data3=pd.read_csv('IRAhandle_tweets_3.csv')\n",
    "data4=pd.read_csv('IRAhandle_tweets_4.csv')\n",
    "data5=pd.read_csv('IRAhandle_tweets_5.csv')\n",
    "data6=pd.read_csv('IRAhandle_tweets_6.csv')\n",
    "data7=pd.read_csv('IRAhandle_tweets_7.csv')\n",
    "data8=pd.read_csv('IRAhandle_tweets_8.csv')\n",
    "data9=pd.read_csv('IRAhandle_tweets_9.csv')"
   ]
  },
  {
   "cell_type": "markdown",
   "metadata": {},
   "source": [
    "## Exploring data1"
   ]
  },
  {
   "cell_type": "code",
   "execution_count": 3,
   "metadata": {},
   "outputs": [
    {
     "data": {
      "text/html": [
       "<div>\n",
       "<style scoped>\n",
       "    .dataframe tbody tr th:only-of-type {\n",
       "        vertical-align: middle;\n",
       "    }\n",
       "\n",
       "    .dataframe tbody tr th {\n",
       "        vertical-align: top;\n",
       "    }\n",
       "\n",
       "    .dataframe thead th {\n",
       "        text-align: right;\n",
       "    }\n",
       "</style>\n",
       "<table border=\"1\" class=\"dataframe\">\n",
       "  <thead>\n",
       "    <tr style=\"text-align: right;\">\n",
       "      <th></th>\n",
       "      <th>external_author_id</th>\n",
       "      <th>author</th>\n",
       "      <th>content</th>\n",
       "      <th>region</th>\n",
       "      <th>language</th>\n",
       "      <th>publish_date</th>\n",
       "      <th>harvested_date</th>\n",
       "      <th>following</th>\n",
       "      <th>followers</th>\n",
       "      <th>updates</th>\n",
       "      <th>post_type</th>\n",
       "      <th>account_type</th>\n",
       "      <th>new_june_2018</th>\n",
       "      <th>retweet</th>\n",
       "      <th>account_category</th>\n",
       "    </tr>\n",
       "  </thead>\n",
       "  <tbody>\n",
       "    <tr>\n",
       "      <th>0</th>\n",
       "      <td>9.060000e+17</td>\n",
       "      <td>10_GOP</td>\n",
       "      <td>\"We have a sitting Democrat US Senator on tria...</td>\n",
       "      <td>Unknown</td>\n",
       "      <td>English</td>\n",
       "      <td>10/1/2017 19:58</td>\n",
       "      <td>10/1/2017 19:59</td>\n",
       "      <td>1052</td>\n",
       "      <td>9636</td>\n",
       "      <td>253</td>\n",
       "      <td>NaN</td>\n",
       "      <td>Right</td>\n",
       "      <td>0</td>\n",
       "      <td>0</td>\n",
       "      <td>RightTroll</td>\n",
       "    </tr>\n",
       "    <tr>\n",
       "      <th>1</th>\n",
       "      <td>9.060000e+17</td>\n",
       "      <td>10_GOP</td>\n",
       "      <td>Marshawn Lynch arrives to game in anti-Trump s...</td>\n",
       "      <td>Unknown</td>\n",
       "      <td>English</td>\n",
       "      <td>10/1/2017 22:43</td>\n",
       "      <td>10/1/2017 22:43</td>\n",
       "      <td>1054</td>\n",
       "      <td>9637</td>\n",
       "      <td>254</td>\n",
       "      <td>NaN</td>\n",
       "      <td>Right</td>\n",
       "      <td>0</td>\n",
       "      <td>0</td>\n",
       "      <td>RightTroll</td>\n",
       "    </tr>\n",
       "    <tr>\n",
       "      <th>2</th>\n",
       "      <td>9.060000e+17</td>\n",
       "      <td>10_GOP</td>\n",
       "      <td>Daughter of fallen Navy Sailor delivers powerf...</td>\n",
       "      <td>Unknown</td>\n",
       "      <td>English</td>\n",
       "      <td>10/1/2017 22:50</td>\n",
       "      <td>10/1/2017 22:51</td>\n",
       "      <td>1054</td>\n",
       "      <td>9637</td>\n",
       "      <td>255</td>\n",
       "      <td>RETWEET</td>\n",
       "      <td>Right</td>\n",
       "      <td>0</td>\n",
       "      <td>1</td>\n",
       "      <td>RightTroll</td>\n",
       "    </tr>\n",
       "    <tr>\n",
       "      <th>3</th>\n",
       "      <td>9.060000e+17</td>\n",
       "      <td>10_GOP</td>\n",
       "      <td>JUST IN: President Trump dedicates Presidents ...</td>\n",
       "      <td>Unknown</td>\n",
       "      <td>English</td>\n",
       "      <td>10/1/2017 23:52</td>\n",
       "      <td>10/1/2017 23:52</td>\n",
       "      <td>1062</td>\n",
       "      <td>9642</td>\n",
       "      <td>256</td>\n",
       "      <td>NaN</td>\n",
       "      <td>Right</td>\n",
       "      <td>0</td>\n",
       "      <td>0</td>\n",
       "      <td>RightTroll</td>\n",
       "    </tr>\n",
       "    <tr>\n",
       "      <th>4</th>\n",
       "      <td>9.060000e+17</td>\n",
       "      <td>10_GOP</td>\n",
       "      <td>19,000 RESPECTING our National Anthem! #StandF...</td>\n",
       "      <td>Unknown</td>\n",
       "      <td>English</td>\n",
       "      <td>10/1/2017 2:13</td>\n",
       "      <td>10/1/2017 2:13</td>\n",
       "      <td>1050</td>\n",
       "      <td>9645</td>\n",
       "      <td>246</td>\n",
       "      <td>RETWEET</td>\n",
       "      <td>Right</td>\n",
       "      <td>0</td>\n",
       "      <td>1</td>\n",
       "      <td>RightTroll</td>\n",
       "    </tr>\n",
       "  </tbody>\n",
       "</table>\n",
       "</div>"
      ],
      "text/plain": [
       "   external_author_id  author  \\\n",
       "0        9.060000e+17  10_GOP   \n",
       "1        9.060000e+17  10_GOP   \n",
       "2        9.060000e+17  10_GOP   \n",
       "3        9.060000e+17  10_GOP   \n",
       "4        9.060000e+17  10_GOP   \n",
       "\n",
       "                                             content   region language  \\\n",
       "0  \"We have a sitting Democrat US Senator on tria...  Unknown  English   \n",
       "1  Marshawn Lynch arrives to game in anti-Trump s...  Unknown  English   \n",
       "2  Daughter of fallen Navy Sailor delivers powerf...  Unknown  English   \n",
       "3  JUST IN: President Trump dedicates Presidents ...  Unknown  English   \n",
       "4  19,000 RESPECTING our National Anthem! #StandF...  Unknown  English   \n",
       "\n",
       "      publish_date   harvested_date  following  followers  updates post_type  \\\n",
       "0  10/1/2017 19:58  10/1/2017 19:59       1052       9636      253       NaN   \n",
       "1  10/1/2017 22:43  10/1/2017 22:43       1054       9637      254       NaN   \n",
       "2  10/1/2017 22:50  10/1/2017 22:51       1054       9637      255   RETWEET   \n",
       "3  10/1/2017 23:52  10/1/2017 23:52       1062       9642      256       NaN   \n",
       "4   10/1/2017 2:13   10/1/2017 2:13       1050       9645      246   RETWEET   \n",
       "\n",
       "  account_type  new_june_2018  retweet account_category  \n",
       "0        Right              0        0       RightTroll  \n",
       "1        Right              0        0       RightTroll  \n",
       "2        Right              0        1       RightTroll  \n",
       "3        Right              0        0       RightTroll  \n",
       "4        Right              0        1       RightTroll  "
      ]
     },
     "execution_count": 3,
     "metadata": {},
     "output_type": "execute_result"
    }
   ],
   "source": [
    "data1.head()"
   ]
  },
  {
   "cell_type": "code",
   "execution_count": 4,
   "metadata": {
    "scrolled": true
   },
   "outputs": [
    {
     "data": {
      "text/plain": [
       "Index(['external_author_id', 'author', 'content', 'region', 'language',\n",
       "       'publish_date', 'harvested_date', 'following', 'followers', 'updates',\n",
       "       'post_type', 'account_type', 'new_june_2018', 'retweet',\n",
       "       'account_category'],\n",
       "      dtype='object')"
      ]
     },
     "execution_count": 4,
     "metadata": {},
     "output_type": "execute_result"
    }
   ],
   "source": [
    "data1.describe().all\n",
    "data1.columns"
   ]
  },
  {
   "cell_type": "code",
   "execution_count": 5,
   "metadata": {},
   "outputs": [
    {
     "name": "stdout",
     "output_type": "stream",
     "text": [
      "381016 15\n"
     ]
    }
   ],
   "source": [
    "data1.shape\n",
    "rows=data1.shape[0]\n",
    "cols=data1.shape[1]\n",
    "print(rows,cols)"
   ]
  },
  {
   "cell_type": "code",
   "execution_count": 6,
   "metadata": {},
   "outputs": [
    {
     "data": {
      "text/plain": [
       "AMELIEBALDWIN      35371\n",
       "BERLINBOTE         19748\n",
       "ARM_2_ALAN         14721\n",
       "BIZGOD             12156\n",
       "BATONROUGEVOICE    10758\n",
       "                   ...  \n",
       "459JISALGE             1\n",
       "ALWAYSHUNGRYBAE        1\n",
       "ANDREJFROLOV69         1\n",
       "AAATEST1234            1\n",
       "ACTIVEMIKR             1\n",
       "Name: author, Length: 418, dtype: int64"
      ]
     },
     "execution_count": 6,
     "metadata": {},
     "output_type": "execute_result"
    }
   ],
   "source": [
    "data1['author'].value_counts()"
   ]
  },
  {
   "cell_type": "code",
   "execution_count": 7,
   "metadata": {},
   "outputs": [
    {
     "data": {
      "text/plain": [
       "RightTroll      128681\n",
       "NonEnglish       88936\n",
       "LeftTroll        81474\n",
       "HashtagGamer     35204\n",
       "NewsFeed         32423\n",
       "Commercial       12495\n",
       "Unknown            983\n",
       "Fearmonger         820\n",
       "Name: account_category, dtype: int64"
      ]
     },
     "execution_count": 7,
     "metadata": {},
     "output_type": "execute_result"
    }
   ],
   "source": [
    "data1['account_category'].value_counts()"
   ]
  },
  {
   "cell_type": "code",
   "execution_count": 8,
   "metadata": {},
   "outputs": [
    {
     "data": {
      "text/plain": [
       "Right         128681\n",
       "left           81474\n",
       "Russian        56934\n",
       "Hashtager      35204\n",
       "local          32423\n",
       "German         25134\n",
       "Commercial     12495\n",
       "Italian         6278\n",
       "?                983\n",
       "Koch             645\n",
       "Arabic           480\n",
       "ZAPOROSHIA       175\n",
       "Spanish           61\n",
       "French            48\n",
       "Ukranian           1\n",
       "Name: account_type, dtype: int64"
      ]
     },
     "execution_count": 8,
     "metadata": {},
     "output_type": "execute_result"
    }
   ],
   "source": [
    "data1['account_type'].value_counts()"
   ]
  },
  {
   "cell_type": "code",
   "execution_count": 9,
   "metadata": {},
   "outputs": [
    {
     "data": {
      "text/plain": [
       "RETWEET        190015\n",
       "QUOTE_TWEET      7235\n",
       "Name: post_type, dtype: int64"
      ]
     },
     "execution_count": 9,
     "metadata": {},
     "output_type": "execute_result"
    }
   ],
   "source": [
    "data1['post_type'].value_counts()"
   ]
  },
  {
   "cell_type": "code",
   "execution_count": 10,
   "metadata": {},
   "outputs": [
    {
     "data": {
      "text/plain": [
       "United States           251587\n",
       "Unknown                  96063\n",
       "United Arab Emirates     10204\n",
       "Azerbaijan                9126\n",
       "Italy                     6280\n",
       "Germany                   2841\n",
       "Russian Federation        1977\n",
       "Ukraine                   1234\n",
       "Israel                     677\n",
       "United Kingdom             602\n",
       "France                      51\n",
       "Iraq                        17\n",
       "Egypt                       10\n",
       "Turkey                       9\n",
       "Belarus                      8\n",
       "Japan                        6\n",
       "Hong Kong                    3\n",
       "Serbia                       2\n",
       "Austria                      1\n",
       "Name: region, dtype: int64"
      ]
     },
     "execution_count": 10,
     "metadata": {},
     "output_type": "execute_result"
    }
   ],
   "source": [
    "data1['region'].value_counts()"
   ]
  },
  {
   "cell_type": "code",
   "execution_count": 11,
   "metadata": {},
   "outputs": [
    {
     "data": {
      "text/plain": [
       "English                291571\n",
       "Russian                 48726\n",
       "German                  24312\n",
       "Italian                  6335\n",
       "Ukrainian                3278\n",
       "Serbian                   752\n",
       "Uzbek                     747\n",
       "Bulgarian                 685\n",
       "French                    660\n",
       "Arabic                    631\n",
       "Spanish                   554\n",
       "Macedonian                446\n",
       "Norwegian                 270\n",
       "Dutch                     235\n",
       "Swedish                   200\n",
       "Romanian                  173\n",
       "Farsi (Persian)           150\n",
       "Vietnamese                148\n",
       "Estonian                  126\n",
       "Catalan                    93\n",
       "Japanese                   84\n",
       "Albanian                   81\n",
       "Turkish                    80\n",
       "Portuguese                 77\n",
       "Finnish                    67\n",
       "Croatian                   62\n",
       "Icelandic                  49\n",
       "Pushto                     49\n",
       "Tagalog (Filipino)         38\n",
       "LANGUAGE UNDEFINED         37\n",
       "Polish                     36\n",
       "Lithuanian                 35\n",
       "Latvian                    31\n",
       "Somali                     27\n",
       "Malay                      21\n",
       "Hindi                      21\n",
       "Kurdish                    18\n",
       "Hungarian                  18\n",
       "Slovak                     16\n",
       "Danish                     16\n",
       "Indonesian                 11\n",
       "Czech                      11\n",
       "Greek                       9\n",
       "Slovenian                   8\n",
       "Urdu                        7\n",
       "Hebrew                      7\n",
       "Korean                      3\n",
       "Simplified Chinese          2\n",
       "Bengali                     1\n",
       "Thai                        1\n",
       "Traditional Chinese         1\n",
       "Name: language, dtype: int64"
      ]
     },
     "execution_count": 11,
     "metadata": {},
     "output_type": "execute_result"
    }
   ],
   "source": [
    "data1['language'].value_counts()"
   ]
  },
  {
   "cell_type": "code",
   "execution_count": 12,
   "metadata": {
    "scrolled": true
   },
   "outputs": [],
   "source": [
    "eng_data1=data1.loc[data1['language']=='English',:]"
   ]
  },
  {
   "cell_type": "code",
   "execution_count": 13,
   "metadata": {},
   "outputs": [
    {
     "data": {
      "text/html": [
       "<div>\n",
       "<style scoped>\n",
       "    .dataframe tbody tr th:only-of-type {\n",
       "        vertical-align: middle;\n",
       "    }\n",
       "\n",
       "    .dataframe tbody tr th {\n",
       "        vertical-align: top;\n",
       "    }\n",
       "\n",
       "    .dataframe thead th {\n",
       "        text-align: right;\n",
       "    }\n",
       "</style>\n",
       "<table border=\"1\" class=\"dataframe\">\n",
       "  <thead>\n",
       "    <tr style=\"text-align: right;\">\n",
       "      <th></th>\n",
       "      <th>external_author_id</th>\n",
       "      <th>author</th>\n",
       "      <th>content</th>\n",
       "      <th>region</th>\n",
       "      <th>language</th>\n",
       "      <th>publish_date</th>\n",
       "      <th>harvested_date</th>\n",
       "      <th>following</th>\n",
       "      <th>followers</th>\n",
       "      <th>updates</th>\n",
       "      <th>post_type</th>\n",
       "      <th>account_type</th>\n",
       "      <th>new_june_2018</th>\n",
       "      <th>retweet</th>\n",
       "      <th>account_category</th>\n",
       "    </tr>\n",
       "  </thead>\n",
       "  <tbody>\n",
       "    <tr>\n",
       "      <th>0</th>\n",
       "      <td>9.060000e+17</td>\n",
       "      <td>10_GOP</td>\n",
       "      <td>\"We have a sitting Democrat US Senator on tria...</td>\n",
       "      <td>Unknown</td>\n",
       "      <td>English</td>\n",
       "      <td>10/1/2017 19:58</td>\n",
       "      <td>10/1/2017 19:59</td>\n",
       "      <td>1052</td>\n",
       "      <td>9636</td>\n",
       "      <td>253</td>\n",
       "      <td>NaN</td>\n",
       "      <td>Right</td>\n",
       "      <td>0</td>\n",
       "      <td>0</td>\n",
       "      <td>RightTroll</td>\n",
       "    </tr>\n",
       "    <tr>\n",
       "      <th>1</th>\n",
       "      <td>9.060000e+17</td>\n",
       "      <td>10_GOP</td>\n",
       "      <td>Marshawn Lynch arrives to game in anti-Trump s...</td>\n",
       "      <td>Unknown</td>\n",
       "      <td>English</td>\n",
       "      <td>10/1/2017 22:43</td>\n",
       "      <td>10/1/2017 22:43</td>\n",
       "      <td>1054</td>\n",
       "      <td>9637</td>\n",
       "      <td>254</td>\n",
       "      <td>NaN</td>\n",
       "      <td>Right</td>\n",
       "      <td>0</td>\n",
       "      <td>0</td>\n",
       "      <td>RightTroll</td>\n",
       "    </tr>\n",
       "    <tr>\n",
       "      <th>2</th>\n",
       "      <td>9.060000e+17</td>\n",
       "      <td>10_GOP</td>\n",
       "      <td>Daughter of fallen Navy Sailor delivers powerf...</td>\n",
       "      <td>Unknown</td>\n",
       "      <td>English</td>\n",
       "      <td>10/1/2017 22:50</td>\n",
       "      <td>10/1/2017 22:51</td>\n",
       "      <td>1054</td>\n",
       "      <td>9637</td>\n",
       "      <td>255</td>\n",
       "      <td>RETWEET</td>\n",
       "      <td>Right</td>\n",
       "      <td>0</td>\n",
       "      <td>1</td>\n",
       "      <td>RightTroll</td>\n",
       "    </tr>\n",
       "    <tr>\n",
       "      <th>3</th>\n",
       "      <td>9.060000e+17</td>\n",
       "      <td>10_GOP</td>\n",
       "      <td>JUST IN: President Trump dedicates Presidents ...</td>\n",
       "      <td>Unknown</td>\n",
       "      <td>English</td>\n",
       "      <td>10/1/2017 23:52</td>\n",
       "      <td>10/1/2017 23:52</td>\n",
       "      <td>1062</td>\n",
       "      <td>9642</td>\n",
       "      <td>256</td>\n",
       "      <td>NaN</td>\n",
       "      <td>Right</td>\n",
       "      <td>0</td>\n",
       "      <td>0</td>\n",
       "      <td>RightTroll</td>\n",
       "    </tr>\n",
       "    <tr>\n",
       "      <th>4</th>\n",
       "      <td>9.060000e+17</td>\n",
       "      <td>10_GOP</td>\n",
       "      <td>19,000 RESPECTING our National Anthem! #StandF...</td>\n",
       "      <td>Unknown</td>\n",
       "      <td>English</td>\n",
       "      <td>10/1/2017 2:13</td>\n",
       "      <td>10/1/2017 2:13</td>\n",
       "      <td>1050</td>\n",
       "      <td>9645</td>\n",
       "      <td>246</td>\n",
       "      <td>RETWEET</td>\n",
       "      <td>Right</td>\n",
       "      <td>0</td>\n",
       "      <td>1</td>\n",
       "      <td>RightTroll</td>\n",
       "    </tr>\n",
       "  </tbody>\n",
       "</table>\n",
       "</div>"
      ],
      "text/plain": [
       "   external_author_id  author  \\\n",
       "0        9.060000e+17  10_GOP   \n",
       "1        9.060000e+17  10_GOP   \n",
       "2        9.060000e+17  10_GOP   \n",
       "3        9.060000e+17  10_GOP   \n",
       "4        9.060000e+17  10_GOP   \n",
       "\n",
       "                                             content   region language  \\\n",
       "0  \"We have a sitting Democrat US Senator on tria...  Unknown  English   \n",
       "1  Marshawn Lynch arrives to game in anti-Trump s...  Unknown  English   \n",
       "2  Daughter of fallen Navy Sailor delivers powerf...  Unknown  English   \n",
       "3  JUST IN: President Trump dedicates Presidents ...  Unknown  English   \n",
       "4  19,000 RESPECTING our National Anthem! #StandF...  Unknown  English   \n",
       "\n",
       "      publish_date   harvested_date  following  followers  updates post_type  \\\n",
       "0  10/1/2017 19:58  10/1/2017 19:59       1052       9636      253       NaN   \n",
       "1  10/1/2017 22:43  10/1/2017 22:43       1054       9637      254       NaN   \n",
       "2  10/1/2017 22:50  10/1/2017 22:51       1054       9637      255   RETWEET   \n",
       "3  10/1/2017 23:52  10/1/2017 23:52       1062       9642      256       NaN   \n",
       "4   10/1/2017 2:13   10/1/2017 2:13       1050       9645      246   RETWEET   \n",
       "\n",
       "  account_type  new_june_2018  retweet account_category  \n",
       "0        Right              0        0       RightTroll  \n",
       "1        Right              0        0       RightTroll  \n",
       "2        Right              0        1       RightTroll  \n",
       "3        Right              0        0       RightTroll  \n",
       "4        Right              0        1       RightTroll  "
      ]
     },
     "execution_count": 13,
     "metadata": {},
     "output_type": "execute_result"
    }
   ],
   "source": [
    "eng_data1.head()\n"
   ]
  },
  {
   "cell_type": "code",
   "execution_count": 14,
   "metadata": {},
   "outputs": [
    {
     "data": {
      "text/plain": [
       "(291571, 15)"
      ]
     },
     "execution_count": 14,
     "metadata": {},
     "output_type": "execute_result"
    }
   ],
   "source": [
    "eng_data1.shape"
   ]
  },
  {
   "cell_type": "markdown",
   "metadata": {},
   "source": [
    "## Exploring data2"
   ]
  },
  {
   "cell_type": "code",
   "execution_count": 15,
   "metadata": {},
   "outputs": [
    {
     "data": {
      "text/html": [
       "<div>\n",
       "<style scoped>\n",
       "    .dataframe tbody tr th:only-of-type {\n",
       "        vertical-align: middle;\n",
       "    }\n",
       "\n",
       "    .dataframe tbody tr th {\n",
       "        vertical-align: top;\n",
       "    }\n",
       "\n",
       "    .dataframe thead th {\n",
       "        text-align: right;\n",
       "    }\n",
       "</style>\n",
       "<table border=\"1\" class=\"dataframe\">\n",
       "  <thead>\n",
       "    <tr style=\"text-align: right;\">\n",
       "      <th></th>\n",
       "      <th>external_author_id</th>\n",
       "      <th>author</th>\n",
       "      <th>content</th>\n",
       "      <th>region</th>\n",
       "      <th>language</th>\n",
       "      <th>publish_date</th>\n",
       "      <th>harvested_date</th>\n",
       "      <th>following</th>\n",
       "      <th>followers</th>\n",
       "      <th>updates</th>\n",
       "      <th>post_type</th>\n",
       "      <th>account_type</th>\n",
       "      <th>new_june_2018</th>\n",
       "      <th>retweet</th>\n",
       "      <th>account_category</th>\n",
       "    </tr>\n",
       "  </thead>\n",
       "  <tbody>\n",
       "    <tr>\n",
       "      <th>0</th>\n",
       "      <td>1.685173e+09</td>\n",
       "      <td>BLMSOLDIER</td>\n",
       "      <td>Koome: This court won’t sit next week but will...</td>\n",
       "      <td>United States</td>\n",
       "      <td>English</td>\n",
       "      <td>3/7/2017 10:27</td>\n",
       "      <td>3/7/2017 10:28</td>\n",
       "      <td>694</td>\n",
       "      <td>712</td>\n",
       "      <td>4846</td>\n",
       "      <td>RETWEET</td>\n",
       "      <td>left</td>\n",
       "      <td>0</td>\n",
       "      <td>1</td>\n",
       "      <td>LeftTroll</td>\n",
       "    </tr>\n",
       "    <tr>\n",
       "      <th>1</th>\n",
       "      <td>1.685173e+09</td>\n",
       "      <td>BLMSOLDIER</td>\n",
       "      <td>Get Youtube promotion go viral click here to s...</td>\n",
       "      <td>United States</td>\n",
       "      <td>English</td>\n",
       "      <td>3/7/2017 10:28</td>\n",
       "      <td>3/7/2017 10:28</td>\n",
       "      <td>694</td>\n",
       "      <td>712</td>\n",
       "      <td>4847</td>\n",
       "      <td>RETWEET</td>\n",
       "      <td>left</td>\n",
       "      <td>0</td>\n",
       "      <td>1</td>\n",
       "      <td>LeftTroll</td>\n",
       "    </tr>\n",
       "    <tr>\n",
       "      <th>2</th>\n",
       "      <td>1.685173e+09</td>\n",
       "      <td>BLMSOLDIER</td>\n",
       "      <td>\"Affordable Care Act\" replacement breaks Trump...</td>\n",
       "      <td>United States</td>\n",
       "      <td>English</td>\n",
       "      <td>3/7/2017 10:28</td>\n",
       "      <td>3/7/2017 10:28</td>\n",
       "      <td>694</td>\n",
       "      <td>712</td>\n",
       "      <td>4848</td>\n",
       "      <td>RETWEET</td>\n",
       "      <td>left</td>\n",
       "      <td>0</td>\n",
       "      <td>1</td>\n",
       "      <td>LeftTroll</td>\n",
       "    </tr>\n",
       "    <tr>\n",
       "      <th>3</th>\n",
       "      <td>1.685173e+09</td>\n",
       "      <td>BLMSOLDIER</td>\n",
       "      <td>'@GeorgeJolly9 oh you know she is dead ass ser...</td>\n",
       "      <td>United States</td>\n",
       "      <td>English</td>\n",
       "      <td>3/7/2017 15:30</td>\n",
       "      <td>3/7/2017 15:31</td>\n",
       "      <td>694</td>\n",
       "      <td>711</td>\n",
       "      <td>4852</td>\n",
       "      <td>RETWEET</td>\n",
       "      <td>left</td>\n",
       "      <td>0</td>\n",
       "      <td>1</td>\n",
       "      <td>LeftTroll</td>\n",
       "    </tr>\n",
       "    <tr>\n",
       "      <th>4</th>\n",
       "      <td>1.685173e+09</td>\n",
       "      <td>BLMSOLDIER</td>\n",
       "      <td>Media is treating wiretap claim like it's legi...</td>\n",
       "      <td>United States</td>\n",
       "      <td>English</td>\n",
       "      <td>3/7/2017 15:30</td>\n",
       "      <td>3/7/2017 15:31</td>\n",
       "      <td>694</td>\n",
       "      <td>711</td>\n",
       "      <td>4853</td>\n",
       "      <td>RETWEET</td>\n",
       "      <td>left</td>\n",
       "      <td>0</td>\n",
       "      <td>1</td>\n",
       "      <td>LeftTroll</td>\n",
       "    </tr>\n",
       "  </tbody>\n",
       "</table>\n",
       "</div>"
      ],
      "text/plain": [
       "   external_author_id      author  \\\n",
       "0        1.685173e+09  BLMSOLDIER   \n",
       "1        1.685173e+09  BLMSOLDIER   \n",
       "2        1.685173e+09  BLMSOLDIER   \n",
       "3        1.685173e+09  BLMSOLDIER   \n",
       "4        1.685173e+09  BLMSOLDIER   \n",
       "\n",
       "                                             content         region language  \\\n",
       "0  Koome: This court won’t sit next week but will...  United States  English   \n",
       "1  Get Youtube promotion go viral click here to s...  United States  English   \n",
       "2  \"Affordable Care Act\" replacement breaks Trump...  United States  English   \n",
       "3  '@GeorgeJolly9 oh you know she is dead ass ser...  United States  English   \n",
       "4  Media is treating wiretap claim like it's legi...  United States  English   \n",
       "\n",
       "     publish_date  harvested_date  following  followers  updates post_type  \\\n",
       "0  3/7/2017 10:27  3/7/2017 10:28        694        712     4846   RETWEET   \n",
       "1  3/7/2017 10:28  3/7/2017 10:28        694        712     4847   RETWEET   \n",
       "2  3/7/2017 10:28  3/7/2017 10:28        694        712     4848   RETWEET   \n",
       "3  3/7/2017 15:30  3/7/2017 15:31        694        711     4852   RETWEET   \n",
       "4  3/7/2017 15:30  3/7/2017 15:31        694        711     4853   RETWEET   \n",
       "\n",
       "  account_type  new_june_2018  retweet account_category  \n",
       "0         left              0        1        LeftTroll  \n",
       "1         left              0        1        LeftTroll  \n",
       "2         left              0        1        LeftTroll  \n",
       "3         left              0        1        LeftTroll  \n",
       "4         left              0        1        LeftTroll  "
      ]
     },
     "execution_count": 15,
     "metadata": {},
     "output_type": "execute_result"
    }
   ],
   "source": [
    "data2.head()"
   ]
  },
  {
   "cell_type": "code",
   "execution_count": 16,
   "metadata": {},
   "outputs": [
    {
     "data": {
      "text/plain": [
       "Index(['external_author_id', 'author', 'content', 'region', 'language',\n",
       "       'publish_date', 'harvested_date', 'following', 'followers', 'updates',\n",
       "       'post_type', 'account_type', 'new_june_2018', 'retweet',\n",
       "       'account_category'],\n",
       "      dtype='object')"
      ]
     },
     "execution_count": 16,
     "metadata": {},
     "output_type": "execute_result"
    }
   ],
   "source": [
    "data2.describe().all\n",
    "data2.columns"
   ]
  },
  {
   "cell_type": "code",
   "execution_count": 17,
   "metadata": {},
   "outputs": [
    {
     "name": "stdout",
     "output_type": "stream",
     "text": [
      "397232 15\n"
     ]
    }
   ],
   "source": [
    "data2.shape\n",
    "rows=data2.shape[0]\n",
    "cols=data2.shape[1]\n",
    "print(rows,cols)"
   ]
  },
  {
   "cell_type": "code",
   "execution_count": 18,
   "metadata": {},
   "outputs": [
    {
     "data": {
      "text/plain": [
       "English               350166\n",
       "Russian                36245\n",
       "German                  3840\n",
       "Ukrainian               2121\n",
       "Bulgarian                588\n",
       "Uzbek                    468\n",
       "Serbian                  408\n",
       "Spanish                  378\n",
       "LANGUAGE UNDEFINED       343\n",
       "French                   301\n",
       "Italian                  294\n",
       "Macedonian               231\n",
       "Norwegian                231\n",
       "Arabic                   196\n",
       "Dutch                    179\n",
       "Romanian                 161\n",
       "Farsi (Persian)          143\n",
       "Vietnamese                82\n",
       "Estonian                  74\n",
       "Catalan                   70\n",
       "Icelandic                 55\n",
       "Albanian                  51\n",
       "Croatian                  48\n",
       "Japanese                  46\n",
       "Swedish                   44\n",
       "Finnish                   42\n",
       "Pushto                    42\n",
       "Turkish                   40\n",
       "Lithuanian                37\n",
       "Portuguese                35\n",
       "Polish                    33\n",
       "Tagalog (Filipino)        31\n",
       "Latvian                   30\n",
       "Czech                     28\n",
       "Somali                    26\n",
       "Danish                    18\n",
       "Malay                     18\n",
       "Kurdish                   17\n",
       "Hungarian                 14\n",
       "Slovak                    13\n",
       "Slovenian                 11\n",
       "Indonesian                 8\n",
       "Urdu                       8\n",
       "Hebrew                     7\n",
       "Korean                     4\n",
       "Hindi                      3\n",
       "Greek                      2\n",
       "Thai                       1\n",
       "Simplified Chinese         1\n",
       "Name: language, dtype: int64"
      ]
     },
     "execution_count": 18,
     "metadata": {},
     "output_type": "execute_result"
    }
   ],
   "source": [
    "# data2['author'].value_counts()\n",
    "data2['account_category'].value_counts()\n",
    "data2['post_type'].value_counts()\n",
    "data2['region'].value_counts()\n",
    "data2['language'].value_counts()"
   ]
  },
  {
   "cell_type": "code",
   "execution_count": 19,
   "metadata": {},
   "outputs": [],
   "source": [
    "eng_data2=data2.loc[data2['language']=='English',:]\n"
   ]
  },
  {
   "cell_type": "code",
   "execution_count": 20,
   "metadata": {},
   "outputs": [
    {
     "data": {
      "text/html": [
       "<div>\n",
       "<style scoped>\n",
       "    .dataframe tbody tr th:only-of-type {\n",
       "        vertical-align: middle;\n",
       "    }\n",
       "\n",
       "    .dataframe tbody tr th {\n",
       "        vertical-align: top;\n",
       "    }\n",
       "\n",
       "    .dataframe thead th {\n",
       "        text-align: right;\n",
       "    }\n",
       "</style>\n",
       "<table border=\"1\" class=\"dataframe\">\n",
       "  <thead>\n",
       "    <tr style=\"text-align: right;\">\n",
       "      <th></th>\n",
       "      <th>external_author_id</th>\n",
       "      <th>author</th>\n",
       "      <th>content</th>\n",
       "      <th>region</th>\n",
       "      <th>language</th>\n",
       "      <th>publish_date</th>\n",
       "      <th>harvested_date</th>\n",
       "      <th>following</th>\n",
       "      <th>followers</th>\n",
       "      <th>updates</th>\n",
       "      <th>post_type</th>\n",
       "      <th>account_type</th>\n",
       "      <th>new_june_2018</th>\n",
       "      <th>retweet</th>\n",
       "      <th>account_category</th>\n",
       "    </tr>\n",
       "  </thead>\n",
       "  <tbody>\n",
       "    <tr>\n",
       "      <th>0</th>\n",
       "      <td>1.685173e+09</td>\n",
       "      <td>BLMSOLDIER</td>\n",
       "      <td>Koome: This court won’t sit next week but will...</td>\n",
       "      <td>United States</td>\n",
       "      <td>English</td>\n",
       "      <td>3/7/2017 10:27</td>\n",
       "      <td>3/7/2017 10:28</td>\n",
       "      <td>694</td>\n",
       "      <td>712</td>\n",
       "      <td>4846</td>\n",
       "      <td>RETWEET</td>\n",
       "      <td>left</td>\n",
       "      <td>0</td>\n",
       "      <td>1</td>\n",
       "      <td>LeftTroll</td>\n",
       "    </tr>\n",
       "    <tr>\n",
       "      <th>1</th>\n",
       "      <td>1.685173e+09</td>\n",
       "      <td>BLMSOLDIER</td>\n",
       "      <td>Get Youtube promotion go viral click here to s...</td>\n",
       "      <td>United States</td>\n",
       "      <td>English</td>\n",
       "      <td>3/7/2017 10:28</td>\n",
       "      <td>3/7/2017 10:28</td>\n",
       "      <td>694</td>\n",
       "      <td>712</td>\n",
       "      <td>4847</td>\n",
       "      <td>RETWEET</td>\n",
       "      <td>left</td>\n",
       "      <td>0</td>\n",
       "      <td>1</td>\n",
       "      <td>LeftTroll</td>\n",
       "    </tr>\n",
       "    <tr>\n",
       "      <th>2</th>\n",
       "      <td>1.685173e+09</td>\n",
       "      <td>BLMSOLDIER</td>\n",
       "      <td>\"Affordable Care Act\" replacement breaks Trump...</td>\n",
       "      <td>United States</td>\n",
       "      <td>English</td>\n",
       "      <td>3/7/2017 10:28</td>\n",
       "      <td>3/7/2017 10:28</td>\n",
       "      <td>694</td>\n",
       "      <td>712</td>\n",
       "      <td>4848</td>\n",
       "      <td>RETWEET</td>\n",
       "      <td>left</td>\n",
       "      <td>0</td>\n",
       "      <td>1</td>\n",
       "      <td>LeftTroll</td>\n",
       "    </tr>\n",
       "    <tr>\n",
       "      <th>3</th>\n",
       "      <td>1.685173e+09</td>\n",
       "      <td>BLMSOLDIER</td>\n",
       "      <td>'@GeorgeJolly9 oh you know she is dead ass ser...</td>\n",
       "      <td>United States</td>\n",
       "      <td>English</td>\n",
       "      <td>3/7/2017 15:30</td>\n",
       "      <td>3/7/2017 15:31</td>\n",
       "      <td>694</td>\n",
       "      <td>711</td>\n",
       "      <td>4852</td>\n",
       "      <td>RETWEET</td>\n",
       "      <td>left</td>\n",
       "      <td>0</td>\n",
       "      <td>1</td>\n",
       "      <td>LeftTroll</td>\n",
       "    </tr>\n",
       "    <tr>\n",
       "      <th>4</th>\n",
       "      <td>1.685173e+09</td>\n",
       "      <td>BLMSOLDIER</td>\n",
       "      <td>Media is treating wiretap claim like it's legi...</td>\n",
       "      <td>United States</td>\n",
       "      <td>English</td>\n",
       "      <td>3/7/2017 15:30</td>\n",
       "      <td>3/7/2017 15:31</td>\n",
       "      <td>694</td>\n",
       "      <td>711</td>\n",
       "      <td>4853</td>\n",
       "      <td>RETWEET</td>\n",
       "      <td>left</td>\n",
       "      <td>0</td>\n",
       "      <td>1</td>\n",
       "      <td>LeftTroll</td>\n",
       "    </tr>\n",
       "  </tbody>\n",
       "</table>\n",
       "</div>"
      ],
      "text/plain": [
       "   external_author_id      author  \\\n",
       "0        1.685173e+09  BLMSOLDIER   \n",
       "1        1.685173e+09  BLMSOLDIER   \n",
       "2        1.685173e+09  BLMSOLDIER   \n",
       "3        1.685173e+09  BLMSOLDIER   \n",
       "4        1.685173e+09  BLMSOLDIER   \n",
       "\n",
       "                                             content         region language  \\\n",
       "0  Koome: This court won’t sit next week but will...  United States  English   \n",
       "1  Get Youtube promotion go viral click here to s...  United States  English   \n",
       "2  \"Affordable Care Act\" replacement breaks Trump...  United States  English   \n",
       "3  '@GeorgeJolly9 oh you know she is dead ass ser...  United States  English   \n",
       "4  Media is treating wiretap claim like it's legi...  United States  English   \n",
       "\n",
       "     publish_date  harvested_date  following  followers  updates post_type  \\\n",
       "0  3/7/2017 10:27  3/7/2017 10:28        694        712     4846   RETWEET   \n",
       "1  3/7/2017 10:28  3/7/2017 10:28        694        712     4847   RETWEET   \n",
       "2  3/7/2017 10:28  3/7/2017 10:28        694        712     4848   RETWEET   \n",
       "3  3/7/2017 15:30  3/7/2017 15:31        694        711     4852   RETWEET   \n",
       "4  3/7/2017 15:30  3/7/2017 15:31        694        711     4853   RETWEET   \n",
       "\n",
       "  account_type  new_june_2018  retweet account_category  \n",
       "0         left              0        1        LeftTroll  \n",
       "1         left              0        1        LeftTroll  \n",
       "2         left              0        1        LeftTroll  \n",
       "3         left              0        1        LeftTroll  \n",
       "4         left              0        1        LeftTroll  "
      ]
     },
     "execution_count": 20,
     "metadata": {},
     "output_type": "execute_result"
    }
   ],
   "source": [
    "eng_data2.head()"
   ]
  },
  {
   "cell_type": "code",
   "execution_count": 21,
   "metadata": {},
   "outputs": [
    {
     "data": {
      "text/plain": [
       "(350166, 15)"
      ]
     },
     "execution_count": 21,
     "metadata": {},
     "output_type": "execute_result"
    }
   ],
   "source": [
    "eng_data2.shape"
   ]
  },
  {
   "cell_type": "markdown",
   "metadata": {},
   "source": [
    "## Exploring data3"
   ]
  },
  {
   "cell_type": "code",
   "execution_count": 22,
   "metadata": {
    "collapsed": true
   },
   "outputs": [
    {
     "data": {
      "text/html": [
       "<div>\n",
       "<style scoped>\n",
       "    .dataframe tbody tr th:only-of-type {\n",
       "        vertical-align: middle;\n",
       "    }\n",
       "\n",
       "    .dataframe tbody tr th {\n",
       "        vertical-align: top;\n",
       "    }\n",
       "\n",
       "    .dataframe thead th {\n",
       "        text-align: right;\n",
       "    }\n",
       "</style>\n",
       "<table border=\"1\" class=\"dataframe\">\n",
       "  <thead>\n",
       "    <tr style=\"text-align: right;\">\n",
       "      <th></th>\n",
       "      <th>external_author_id</th>\n",
       "      <th>author</th>\n",
       "      <th>content</th>\n",
       "      <th>region</th>\n",
       "      <th>language</th>\n",
       "      <th>publish_date</th>\n",
       "      <th>harvested_date</th>\n",
       "      <th>following</th>\n",
       "      <th>followers</th>\n",
       "      <th>updates</th>\n",
       "      <th>post_type</th>\n",
       "      <th>account_type</th>\n",
       "      <th>new_june_2018</th>\n",
       "      <th>retweet</th>\n",
       "      <th>account_category</th>\n",
       "    </tr>\n",
       "  </thead>\n",
       "  <tbody>\n",
       "    <tr>\n",
       "      <th>0</th>\n",
       "      <td>2.494112e+09</td>\n",
       "      <td>DAILYSANJOSE</td>\n",
       "      <td>#sports Ex-Stanford player Stanley Wilson II s...</td>\n",
       "      <td>United States</td>\n",
       "      <td>English</td>\n",
       "      <td>6/27/2016 14:39</td>\n",
       "      <td>6/27/2016 14:39</td>\n",
       "      <td>11955</td>\n",
       "      <td>13225</td>\n",
       "      <td>20394</td>\n",
       "      <td>NaN</td>\n",
       "      <td>local</td>\n",
       "      <td>1</td>\n",
       "      <td>0</td>\n",
       "      <td>NewsFeed</td>\n",
       "    </tr>\n",
       "    <tr>\n",
       "      <th>1</th>\n",
       "      <td>2.494112e+09</td>\n",
       "      <td>DAILYSANJOSE</td>\n",
       "      <td>The Mountain View gets ready to close its door...</td>\n",
       "      <td>United States</td>\n",
       "      <td>English</td>\n",
       "      <td>6/27/2016 14:56</td>\n",
       "      <td>6/27/2016 14:56</td>\n",
       "      <td>11955</td>\n",
       "      <td>13225</td>\n",
       "      <td>20395</td>\n",
       "      <td>NaN</td>\n",
       "      <td>local</td>\n",
       "      <td>1</td>\n",
       "      <td>0</td>\n",
       "      <td>NewsFeed</td>\n",
       "    </tr>\n",
       "    <tr>\n",
       "      <th>2</th>\n",
       "      <td>2.494112e+09</td>\n",
       "      <td>DAILYSANJOSE</td>\n",
       "      <td>#politics Supreme Court strikes down Texas abo...</td>\n",
       "      <td>United States</td>\n",
       "      <td>English</td>\n",
       "      <td>6/27/2016 14:59</td>\n",
       "      <td>6/27/2016 14:59</td>\n",
       "      <td>11955</td>\n",
       "      <td>13225</td>\n",
       "      <td>20396</td>\n",
       "      <td>NaN</td>\n",
       "      <td>local</td>\n",
       "      <td>1</td>\n",
       "      <td>0</td>\n",
       "      <td>NewsFeed</td>\n",
       "    </tr>\n",
       "    <tr>\n",
       "      <th>3</th>\n",
       "      <td>2.494112e+09</td>\n",
       "      <td>DAILYSANJOSE</td>\n",
       "      <td>#health Supreme Court strikes down Texas abort...</td>\n",
       "      <td>United States</td>\n",
       "      <td>English</td>\n",
       "      <td>6/27/2016 15:01</td>\n",
       "      <td>6/27/2016 15:01</td>\n",
       "      <td>11955</td>\n",
       "      <td>13225</td>\n",
       "      <td>20397</td>\n",
       "      <td>NaN</td>\n",
       "      <td>local</td>\n",
       "      <td>1</td>\n",
       "      <td>0</td>\n",
       "      <td>NewsFeed</td>\n",
       "    </tr>\n",
       "    <tr>\n",
       "      <th>4</th>\n",
       "      <td>2.494112e+09</td>\n",
       "      <td>DAILYSANJOSE</td>\n",
       "      <td>#sports Lochte Fails to Qualify for Rio in Sig...</td>\n",
       "      <td>United States</td>\n",
       "      <td>English</td>\n",
       "      <td>6/27/2016 15:24</td>\n",
       "      <td>6/27/2016 15:24</td>\n",
       "      <td>11955</td>\n",
       "      <td>13225</td>\n",
       "      <td>20398</td>\n",
       "      <td>NaN</td>\n",
       "      <td>local</td>\n",
       "      <td>1</td>\n",
       "      <td>0</td>\n",
       "      <td>NewsFeed</td>\n",
       "    </tr>\n",
       "  </tbody>\n",
       "</table>\n",
       "</div>"
      ],
      "text/plain": [
       "   external_author_id        author  \\\n",
       "0        2.494112e+09  DAILYSANJOSE   \n",
       "1        2.494112e+09  DAILYSANJOSE   \n",
       "2        2.494112e+09  DAILYSANJOSE   \n",
       "3        2.494112e+09  DAILYSANJOSE   \n",
       "4        2.494112e+09  DAILYSANJOSE   \n",
       "\n",
       "                                             content         region language  \\\n",
       "0  #sports Ex-Stanford player Stanley Wilson II s...  United States  English   \n",
       "1  The Mountain View gets ready to close its door...  United States  English   \n",
       "2  #politics Supreme Court strikes down Texas abo...  United States  English   \n",
       "3  #health Supreme Court strikes down Texas abort...  United States  English   \n",
       "4  #sports Lochte Fails to Qualify for Rio in Sig...  United States  English   \n",
       "\n",
       "      publish_date   harvested_date  following  followers  updates post_type  \\\n",
       "0  6/27/2016 14:39  6/27/2016 14:39      11955      13225    20394       NaN   \n",
       "1  6/27/2016 14:56  6/27/2016 14:56      11955      13225    20395       NaN   \n",
       "2  6/27/2016 14:59  6/27/2016 14:59      11955      13225    20396       NaN   \n",
       "3  6/27/2016 15:01  6/27/2016 15:01      11955      13225    20397       NaN   \n",
       "4  6/27/2016 15:24  6/27/2016 15:24      11955      13225    20398       NaN   \n",
       "\n",
       "  account_type  new_june_2018  retweet account_category  \n",
       "0        local              1        0         NewsFeed  \n",
       "1        local              1        0         NewsFeed  \n",
       "2        local              1        0         NewsFeed  \n",
       "3        local              1        0         NewsFeed  \n",
       "4        local              1        0         NewsFeed  "
      ]
     },
     "execution_count": 22,
     "metadata": {},
     "output_type": "execute_result"
    }
   ],
   "source": [
    "data3.head()"
   ]
  },
  {
   "cell_type": "code",
   "execution_count": 23,
   "metadata": {
    "scrolled": true
   },
   "outputs": [
    {
     "data": {
      "text/plain": [
       "Index(['external_author_id', 'author', 'content', 'region', 'language',\n",
       "       'publish_date', 'harvested_date', 'following', 'followers', 'updates',\n",
       "       'post_type', 'account_type', 'new_june_2018', 'retweet',\n",
       "       'account_category'],\n",
       "      dtype='object')"
      ]
     },
     "execution_count": 23,
     "metadata": {},
     "output_type": "execute_result"
    }
   ],
   "source": [
    "data3.describe().all\n",
    "data3.columns"
   ]
  },
  {
   "cell_type": "code",
   "execution_count": 24,
   "metadata": {},
   "outputs": [
    {
     "name": "stdout",
     "output_type": "stream",
     "text": [
      "368885 15\n"
     ]
    }
   ],
   "source": [
    "data3.shape\n",
    "rows=data3.shape[0]\n",
    "cols=data3.shape[1]\n",
    "print(rows,cols)"
   ]
  },
  {
   "cell_type": "code",
   "execution_count": 25,
   "metadata": {
    "collapsed": true
   },
   "outputs": [
    {
     "data": {
      "text/plain": [
       "English                287409\n",
       "Russian                 51131\n",
       "German                  10992\n",
       "Italian                  3822\n",
       "Ukrainian                3451\n",
       "Arabic                   1352\n",
       "Uzbek                     929\n",
       "Farsi (Persian)           863\n",
       "Norwegian                 799\n",
       "Serbian                   777\n",
       "Spanish                   741\n",
       "Bulgarian                 702\n",
       "Romanian                  614\n",
       "French                    495\n",
       "Macedonian                433\n",
       "Japanese                  409\n",
       "Estonian                  305\n",
       "Swedish                   290\n",
       "Finnish                   288\n",
       "Dutch                     270\n",
       "Icelandic                 215\n",
       "Albanian                  196\n",
       "Vietnamese                192\n",
       "Lithuanian                190\n",
       "Polish                    174\n",
       "Greek                     162\n",
       "Slovak                    156\n",
       "Turkish                   145\n",
       "Catalan                   126\n",
       "Croatian                  123\n",
       "Somali                    112\n",
       "Pushto                    109\n",
       "Kurdish                   105\n",
       "Korean                     84\n",
       "Malay                      81\n",
       "Hungarian                  77\n",
       "Indonesian                 74\n",
       "LANGUAGE UNDEFINED         71\n",
       "Tagalog (Filipino)         65\n",
       "Czech                      62\n",
       "Latvian                    60\n",
       "Portuguese                 53\n",
       "Hindi                      40\n",
       "Thai                       26\n",
       "Danish                     22\n",
       "Urdu                       22\n",
       "Slovenian                  17\n",
       "Hebrew                     16\n",
       "Simplified Chinese         13\n",
       "Tamil                       9\n",
       "Traditional Chinese         9\n",
       "Telugu                      2\n",
       "Gujarati                    2\n",
       "Bengali                     1\n",
       "Kannada                     1\n",
       "Malayalam                   1\n",
       "Name: language, dtype: int64"
      ]
     },
     "execution_count": 25,
     "metadata": {},
     "output_type": "execute_result"
    }
   ],
   "source": [
    "# data3['author'].value_counts()\n",
    "data3['account_category'].value_counts()\n",
    "data3['post_type'].value_counts()\n",
    "data3['region'].value_counts()\n",
    "data3['language'].value_counts()"
   ]
  },
  {
   "cell_type": "code",
   "execution_count": 26,
   "metadata": {},
   "outputs": [],
   "source": [
    "eng_data3=data3.loc[data3['language']=='English',:]"
   ]
  },
  {
   "cell_type": "code",
   "execution_count": 27,
   "metadata": {
    "collapsed": true
   },
   "outputs": [
    {
     "data": {
      "text/html": [
       "<div>\n",
       "<style scoped>\n",
       "    .dataframe tbody tr th:only-of-type {\n",
       "        vertical-align: middle;\n",
       "    }\n",
       "\n",
       "    .dataframe tbody tr th {\n",
       "        vertical-align: top;\n",
       "    }\n",
       "\n",
       "    .dataframe thead th {\n",
       "        text-align: right;\n",
       "    }\n",
       "</style>\n",
       "<table border=\"1\" class=\"dataframe\">\n",
       "  <thead>\n",
       "    <tr style=\"text-align: right;\">\n",
       "      <th></th>\n",
       "      <th>external_author_id</th>\n",
       "      <th>author</th>\n",
       "      <th>content</th>\n",
       "      <th>region</th>\n",
       "      <th>language</th>\n",
       "      <th>publish_date</th>\n",
       "      <th>harvested_date</th>\n",
       "      <th>following</th>\n",
       "      <th>followers</th>\n",
       "      <th>updates</th>\n",
       "      <th>post_type</th>\n",
       "      <th>account_type</th>\n",
       "      <th>new_june_2018</th>\n",
       "      <th>retweet</th>\n",
       "      <th>account_category</th>\n",
       "    </tr>\n",
       "  </thead>\n",
       "  <tbody>\n",
       "    <tr>\n",
       "      <th>0</th>\n",
       "      <td>2.494112e+09</td>\n",
       "      <td>DAILYSANJOSE</td>\n",
       "      <td>#sports Ex-Stanford player Stanley Wilson II s...</td>\n",
       "      <td>United States</td>\n",
       "      <td>English</td>\n",
       "      <td>6/27/2016 14:39</td>\n",
       "      <td>6/27/2016 14:39</td>\n",
       "      <td>11955</td>\n",
       "      <td>13225</td>\n",
       "      <td>20394</td>\n",
       "      <td>NaN</td>\n",
       "      <td>local</td>\n",
       "      <td>1</td>\n",
       "      <td>0</td>\n",
       "      <td>NewsFeed</td>\n",
       "    </tr>\n",
       "    <tr>\n",
       "      <th>1</th>\n",
       "      <td>2.494112e+09</td>\n",
       "      <td>DAILYSANJOSE</td>\n",
       "      <td>The Mountain View gets ready to close its door...</td>\n",
       "      <td>United States</td>\n",
       "      <td>English</td>\n",
       "      <td>6/27/2016 14:56</td>\n",
       "      <td>6/27/2016 14:56</td>\n",
       "      <td>11955</td>\n",
       "      <td>13225</td>\n",
       "      <td>20395</td>\n",
       "      <td>NaN</td>\n",
       "      <td>local</td>\n",
       "      <td>1</td>\n",
       "      <td>0</td>\n",
       "      <td>NewsFeed</td>\n",
       "    </tr>\n",
       "    <tr>\n",
       "      <th>2</th>\n",
       "      <td>2.494112e+09</td>\n",
       "      <td>DAILYSANJOSE</td>\n",
       "      <td>#politics Supreme Court strikes down Texas abo...</td>\n",
       "      <td>United States</td>\n",
       "      <td>English</td>\n",
       "      <td>6/27/2016 14:59</td>\n",
       "      <td>6/27/2016 14:59</td>\n",
       "      <td>11955</td>\n",
       "      <td>13225</td>\n",
       "      <td>20396</td>\n",
       "      <td>NaN</td>\n",
       "      <td>local</td>\n",
       "      <td>1</td>\n",
       "      <td>0</td>\n",
       "      <td>NewsFeed</td>\n",
       "    </tr>\n",
       "    <tr>\n",
       "      <th>3</th>\n",
       "      <td>2.494112e+09</td>\n",
       "      <td>DAILYSANJOSE</td>\n",
       "      <td>#health Supreme Court strikes down Texas abort...</td>\n",
       "      <td>United States</td>\n",
       "      <td>English</td>\n",
       "      <td>6/27/2016 15:01</td>\n",
       "      <td>6/27/2016 15:01</td>\n",
       "      <td>11955</td>\n",
       "      <td>13225</td>\n",
       "      <td>20397</td>\n",
       "      <td>NaN</td>\n",
       "      <td>local</td>\n",
       "      <td>1</td>\n",
       "      <td>0</td>\n",
       "      <td>NewsFeed</td>\n",
       "    </tr>\n",
       "    <tr>\n",
       "      <th>4</th>\n",
       "      <td>2.494112e+09</td>\n",
       "      <td>DAILYSANJOSE</td>\n",
       "      <td>#sports Lochte Fails to Qualify for Rio in Sig...</td>\n",
       "      <td>United States</td>\n",
       "      <td>English</td>\n",
       "      <td>6/27/2016 15:24</td>\n",
       "      <td>6/27/2016 15:24</td>\n",
       "      <td>11955</td>\n",
       "      <td>13225</td>\n",
       "      <td>20398</td>\n",
       "      <td>NaN</td>\n",
       "      <td>local</td>\n",
       "      <td>1</td>\n",
       "      <td>0</td>\n",
       "      <td>NewsFeed</td>\n",
       "    </tr>\n",
       "  </tbody>\n",
       "</table>\n",
       "</div>"
      ],
      "text/plain": [
       "   external_author_id        author  \\\n",
       "0        2.494112e+09  DAILYSANJOSE   \n",
       "1        2.494112e+09  DAILYSANJOSE   \n",
       "2        2.494112e+09  DAILYSANJOSE   \n",
       "3        2.494112e+09  DAILYSANJOSE   \n",
       "4        2.494112e+09  DAILYSANJOSE   \n",
       "\n",
       "                                             content         region language  \\\n",
       "0  #sports Ex-Stanford player Stanley Wilson II s...  United States  English   \n",
       "1  The Mountain View gets ready to close its door...  United States  English   \n",
       "2  #politics Supreme Court strikes down Texas abo...  United States  English   \n",
       "3  #health Supreme Court strikes down Texas abort...  United States  English   \n",
       "4  #sports Lochte Fails to Qualify for Rio in Sig...  United States  English   \n",
       "\n",
       "      publish_date   harvested_date  following  followers  updates post_type  \\\n",
       "0  6/27/2016 14:39  6/27/2016 14:39      11955      13225    20394       NaN   \n",
       "1  6/27/2016 14:56  6/27/2016 14:56      11955      13225    20395       NaN   \n",
       "2  6/27/2016 14:59  6/27/2016 14:59      11955      13225    20396       NaN   \n",
       "3  6/27/2016 15:01  6/27/2016 15:01      11955      13225    20397       NaN   \n",
       "4  6/27/2016 15:24  6/27/2016 15:24      11955      13225    20398       NaN   \n",
       "\n",
       "  account_type  new_june_2018  retweet account_category  \n",
       "0        local              1        0         NewsFeed  \n",
       "1        local              1        0         NewsFeed  \n",
       "2        local              1        0         NewsFeed  \n",
       "3        local              1        0         NewsFeed  \n",
       "4        local              1        0         NewsFeed  "
      ]
     },
     "execution_count": 27,
     "metadata": {},
     "output_type": "execute_result"
    }
   ],
   "source": [
    "eng_data3.head()"
   ]
  },
  {
   "cell_type": "code",
   "execution_count": 28,
   "metadata": {},
   "outputs": [
    {
     "data": {
      "text/plain": [
       "(287409, 15)"
      ]
     },
     "execution_count": 28,
     "metadata": {},
     "output_type": "execute_result"
    }
   ],
   "source": [
    "eng_data3.shape"
   ]
  },
  {
   "cell_type": "markdown",
   "metadata": {},
   "source": [
    "# Exploring data4"
   ]
  },
  {
   "cell_type": "code",
   "execution_count": 29,
   "metadata": {
    "collapsed": true
   },
   "outputs": [
    {
     "data": {
      "text/html": [
       "<div>\n",
       "<style scoped>\n",
       "    .dataframe tbody tr th:only-of-type {\n",
       "        vertical-align: middle;\n",
       "    }\n",
       "\n",
       "    .dataframe tbody tr th {\n",
       "        vertical-align: top;\n",
       "    }\n",
       "\n",
       "    .dataframe thead th {\n",
       "        text-align: right;\n",
       "    }\n",
       "</style>\n",
       "<table border=\"1\" class=\"dataframe\">\n",
       "  <thead>\n",
       "    <tr style=\"text-align: right;\">\n",
       "      <th></th>\n",
       "      <th>external_author_id</th>\n",
       "      <th>author</th>\n",
       "      <th>content</th>\n",
       "      <th>region</th>\n",
       "      <th>language</th>\n",
       "      <th>publish_date</th>\n",
       "      <th>harvested_date</th>\n",
       "      <th>following</th>\n",
       "      <th>followers</th>\n",
       "      <th>updates</th>\n",
       "      <th>post_type</th>\n",
       "      <th>account_type</th>\n",
       "      <th>new_june_2018</th>\n",
       "      <th>retweet</th>\n",
       "      <th>account_category</th>\n",
       "    </tr>\n",
       "  </thead>\n",
       "  <tbody>\n",
       "    <tr>\n",
       "      <th>0</th>\n",
       "      <td>1.674084e+09</td>\n",
       "      <td>GAB1ALDANA</td>\n",
       "      <td>People are too toxic. I think I have people po...</td>\n",
       "      <td>United States</td>\n",
       "      <td>English</td>\n",
       "      <td>7/30/2016 20:15</td>\n",
       "      <td>7/30/2016 20:15</td>\n",
       "      <td>3395</td>\n",
       "      <td>2014</td>\n",
       "      <td>2150</td>\n",
       "      <td>RETWEET</td>\n",
       "      <td>Hashtager</td>\n",
       "      <td>0</td>\n",
       "      <td>1</td>\n",
       "      <td>HashtagGamer</td>\n",
       "    </tr>\n",
       "    <tr>\n",
       "      <th>1</th>\n",
       "      <td>1.674084e+09</td>\n",
       "      <td>GAB1ALDANA</td>\n",
       "      <td>#NowPlaying Don't Shoot (I'm a Man) by @DEVO -...</td>\n",
       "      <td>United States</td>\n",
       "      <td>English</td>\n",
       "      <td>7/30/2016 20:15</td>\n",
       "      <td>7/30/2016 20:15</td>\n",
       "      <td>3395</td>\n",
       "      <td>2014</td>\n",
       "      <td>2146</td>\n",
       "      <td>RETWEET</td>\n",
       "      <td>Hashtager</td>\n",
       "      <td>0</td>\n",
       "      <td>1</td>\n",
       "      <td>HashtagGamer</td>\n",
       "    </tr>\n",
       "    <tr>\n",
       "      <th>2</th>\n",
       "      <td>1.674084e+09</td>\n",
       "      <td>GAB1ALDANA</td>\n",
       "      <td>the 'I'm the most boring person in the world' ...</td>\n",
       "      <td>United States</td>\n",
       "      <td>English</td>\n",
       "      <td>7/30/2016 20:16</td>\n",
       "      <td>7/30/2016 20:16</td>\n",
       "      <td>3395</td>\n",
       "      <td>2013</td>\n",
       "      <td>2159</td>\n",
       "      <td>RETWEET</td>\n",
       "      <td>Hashtager</td>\n",
       "      <td>0</td>\n",
       "      <td>1</td>\n",
       "      <td>HashtagGamer</td>\n",
       "    </tr>\n",
       "    <tr>\n",
       "      <th>3</th>\n",
       "      <td>1.674084e+09</td>\n",
       "      <td>GAB1ALDANA</td>\n",
       "      <td>#MyAchillesHeel slippery floors https://t.co/R...</td>\n",
       "      <td>United States</td>\n",
       "      <td>Norwegian</td>\n",
       "      <td>7/30/2016 20:16</td>\n",
       "      <td>7/30/2016 20:16</td>\n",
       "      <td>3395</td>\n",
       "      <td>2013</td>\n",
       "      <td>2160</td>\n",
       "      <td>RETWEET</td>\n",
       "      <td>Hashtager</td>\n",
       "      <td>0</td>\n",
       "      <td>1</td>\n",
       "      <td>HashtagGamer</td>\n",
       "    </tr>\n",
       "    <tr>\n",
       "      <th>4</th>\n",
       "      <td>1.674084e+09</td>\n",
       "      <td>GAB1ALDANA</td>\n",
       "      <td>#MyAchillesHeel Boring narcissists.....nothing...</td>\n",
       "      <td>United States</td>\n",
       "      <td>English</td>\n",
       "      <td>7/30/2016 20:16</td>\n",
       "      <td>7/30/2016 20:16</td>\n",
       "      <td>3395</td>\n",
       "      <td>2013</td>\n",
       "      <td>2158</td>\n",
       "      <td>RETWEET</td>\n",
       "      <td>Hashtager</td>\n",
       "      <td>0</td>\n",
       "      <td>1</td>\n",
       "      <td>HashtagGamer</td>\n",
       "    </tr>\n",
       "  </tbody>\n",
       "</table>\n",
       "</div>"
      ],
      "text/plain": [
       "   external_author_id      author  \\\n",
       "0        1.674084e+09  GAB1ALDANA   \n",
       "1        1.674084e+09  GAB1ALDANA   \n",
       "2        1.674084e+09  GAB1ALDANA   \n",
       "3        1.674084e+09  GAB1ALDANA   \n",
       "4        1.674084e+09  GAB1ALDANA   \n",
       "\n",
       "                                             content         region  \\\n",
       "0  People are too toxic. I think I have people po...  United States   \n",
       "1  #NowPlaying Don't Shoot (I'm a Man) by @DEVO -...  United States   \n",
       "2  the 'I'm the most boring person in the world' ...  United States   \n",
       "3  #MyAchillesHeel slippery floors https://t.co/R...  United States   \n",
       "4  #MyAchillesHeel Boring narcissists.....nothing...  United States   \n",
       "\n",
       "    language     publish_date   harvested_date  following  followers  updates  \\\n",
       "0    English  7/30/2016 20:15  7/30/2016 20:15       3395       2014     2150   \n",
       "1    English  7/30/2016 20:15  7/30/2016 20:15       3395       2014     2146   \n",
       "2    English  7/30/2016 20:16  7/30/2016 20:16       3395       2013     2159   \n",
       "3  Norwegian  7/30/2016 20:16  7/30/2016 20:16       3395       2013     2160   \n",
       "4    English  7/30/2016 20:16  7/30/2016 20:16       3395       2013     2158   \n",
       "\n",
       "  post_type account_type  new_june_2018  retweet account_category  \n",
       "0   RETWEET    Hashtager              0        1     HashtagGamer  \n",
       "1   RETWEET    Hashtager              0        1     HashtagGamer  \n",
       "2   RETWEET    Hashtager              0        1     HashtagGamer  \n",
       "3   RETWEET    Hashtager              0        1     HashtagGamer  \n",
       "4   RETWEET    Hashtager              0        1     HashtagGamer  "
      ]
     },
     "execution_count": 29,
     "metadata": {},
     "output_type": "execute_result"
    }
   ],
   "source": [
    "data4.head()"
   ]
  },
  {
   "cell_type": "code",
   "execution_count": 30,
   "metadata": {
    "collapsed": true
   },
   "outputs": [
    {
     "data": {
      "text/plain": [
       "Index(['external_author_id', 'author', 'content', 'region', 'language',\n",
       "       'publish_date', 'harvested_date', 'following', 'followers', 'updates',\n",
       "       'post_type', 'account_type', 'new_june_2018', 'retweet',\n",
       "       'account_category'],\n",
       "      dtype='object')"
      ]
     },
     "execution_count": 30,
     "metadata": {},
     "output_type": "execute_result"
    }
   ],
   "source": [
    "data4.describe().all\n",
    "data4.columns"
   ]
  },
  {
   "cell_type": "code",
   "execution_count": 31,
   "metadata": {},
   "outputs": [
    {
     "name": "stdout",
     "output_type": "stream",
     "text": [
      "388452 15\n"
     ]
    }
   ],
   "source": [
    "data4.shape\n",
    "rows=data4.shape[0]\n",
    "cols=data4.shape[1]\n",
    "print(rows,cols)"
   ]
  },
  {
   "cell_type": "code",
   "execution_count": 32,
   "metadata": {
    "collapsed": true
   },
   "outputs": [
    {
     "data": {
      "text/plain": [
       "English               300510\n",
       "Russian                52066\n",
       "German                 15574\n",
       "LANGUAGE UNDEFINED      6577\n",
       "Ukrainian               3904\n",
       "Italian                 3393\n",
       "Uzbek                    960\n",
       "Serbian                  740\n",
       "Bulgarian                683\n",
       "French                   470\n",
       "Spanish                  456\n",
       "Macedonian               446\n",
       "Norwegian                333\n",
       "Arabic                   272\n",
       "Romanian                 207\n",
       "Swedish                  196\n",
       "Vietnamese               183\n",
       "Dutch                    164\n",
       "Farsi (Persian)          138\n",
       "Albanian                  94\n",
       "Estonian                  92\n",
       "Catalan                   88\n",
       "Japanese                  76\n",
       "Croatian                  75\n",
       "Icelandic                 69\n",
       "Pushto                    64\n",
       "Lithuanian                63\n",
       "Turkish                   58\n",
       "Finnish                   57\n",
       "Portuguese                56\n",
       "Indonesian                50\n",
       "Polish                    49\n",
       "Somali                    44\n",
       "Malay                     35\n",
       "Latvian                   30\n",
       "Tagalog (Filipino)        27\n",
       "Czech                     27\n",
       "Kurdish                   27\n",
       "Slovak                    25\n",
       "Hungarian                 22\n",
       "Danish                    15\n",
       "Hebrew                     7\n",
       "Urdu                       7\n",
       "Hindi                      5\n",
       "Korean                     4\n",
       "Thai                       4\n",
       "Slovenian                  4\n",
       "Greek                      3\n",
       "Gujarati                   3\n",
       "Name: language, dtype: int64"
      ]
     },
     "execution_count": 32,
     "metadata": {},
     "output_type": "execute_result"
    }
   ],
   "source": [
    "# data4['author'].value_counts()\n",
    "data4['account_category'].value_counts()\n",
    "data4['post_type'].value_counts()\n",
    "data4['region'].value_counts()\n",
    "data4['language'].value_counts()"
   ]
  },
  {
   "cell_type": "code",
   "execution_count": 33,
   "metadata": {},
   "outputs": [],
   "source": [
    "eng_data4=data4.loc[data4['language']=='English',:]"
   ]
  },
  {
   "cell_type": "code",
   "execution_count": 34,
   "metadata": {
    "collapsed": true
   },
   "outputs": [
    {
     "data": {
      "text/html": [
       "<div>\n",
       "<style scoped>\n",
       "    .dataframe tbody tr th:only-of-type {\n",
       "        vertical-align: middle;\n",
       "    }\n",
       "\n",
       "    .dataframe tbody tr th {\n",
       "        vertical-align: top;\n",
       "    }\n",
       "\n",
       "    .dataframe thead th {\n",
       "        text-align: right;\n",
       "    }\n",
       "</style>\n",
       "<table border=\"1\" class=\"dataframe\">\n",
       "  <thead>\n",
       "    <tr style=\"text-align: right;\">\n",
       "      <th></th>\n",
       "      <th>external_author_id</th>\n",
       "      <th>author</th>\n",
       "      <th>content</th>\n",
       "      <th>region</th>\n",
       "      <th>language</th>\n",
       "      <th>publish_date</th>\n",
       "      <th>harvested_date</th>\n",
       "      <th>following</th>\n",
       "      <th>followers</th>\n",
       "      <th>updates</th>\n",
       "      <th>post_type</th>\n",
       "      <th>account_type</th>\n",
       "      <th>new_june_2018</th>\n",
       "      <th>retweet</th>\n",
       "      <th>account_category</th>\n",
       "    </tr>\n",
       "  </thead>\n",
       "  <tbody>\n",
       "    <tr>\n",
       "      <th>0</th>\n",
       "      <td>1.674084e+09</td>\n",
       "      <td>GAB1ALDANA</td>\n",
       "      <td>People are too toxic. I think I have people po...</td>\n",
       "      <td>United States</td>\n",
       "      <td>English</td>\n",
       "      <td>7/30/2016 20:15</td>\n",
       "      <td>7/30/2016 20:15</td>\n",
       "      <td>3395</td>\n",
       "      <td>2014</td>\n",
       "      <td>2150</td>\n",
       "      <td>RETWEET</td>\n",
       "      <td>Hashtager</td>\n",
       "      <td>0</td>\n",
       "      <td>1</td>\n",
       "      <td>HashtagGamer</td>\n",
       "    </tr>\n",
       "    <tr>\n",
       "      <th>1</th>\n",
       "      <td>1.674084e+09</td>\n",
       "      <td>GAB1ALDANA</td>\n",
       "      <td>#NowPlaying Don't Shoot (I'm a Man) by @DEVO -...</td>\n",
       "      <td>United States</td>\n",
       "      <td>English</td>\n",
       "      <td>7/30/2016 20:15</td>\n",
       "      <td>7/30/2016 20:15</td>\n",
       "      <td>3395</td>\n",
       "      <td>2014</td>\n",
       "      <td>2146</td>\n",
       "      <td>RETWEET</td>\n",
       "      <td>Hashtager</td>\n",
       "      <td>0</td>\n",
       "      <td>1</td>\n",
       "      <td>HashtagGamer</td>\n",
       "    </tr>\n",
       "    <tr>\n",
       "      <th>2</th>\n",
       "      <td>1.674084e+09</td>\n",
       "      <td>GAB1ALDANA</td>\n",
       "      <td>the 'I'm the most boring person in the world' ...</td>\n",
       "      <td>United States</td>\n",
       "      <td>English</td>\n",
       "      <td>7/30/2016 20:16</td>\n",
       "      <td>7/30/2016 20:16</td>\n",
       "      <td>3395</td>\n",
       "      <td>2013</td>\n",
       "      <td>2159</td>\n",
       "      <td>RETWEET</td>\n",
       "      <td>Hashtager</td>\n",
       "      <td>0</td>\n",
       "      <td>1</td>\n",
       "      <td>HashtagGamer</td>\n",
       "    </tr>\n",
       "    <tr>\n",
       "      <th>4</th>\n",
       "      <td>1.674084e+09</td>\n",
       "      <td>GAB1ALDANA</td>\n",
       "      <td>#MyAchillesHeel Boring narcissists.....nothing...</td>\n",
       "      <td>United States</td>\n",
       "      <td>English</td>\n",
       "      <td>7/30/2016 20:16</td>\n",
       "      <td>7/30/2016 20:16</td>\n",
       "      <td>3395</td>\n",
       "      <td>2013</td>\n",
       "      <td>2158</td>\n",
       "      <td>RETWEET</td>\n",
       "      <td>Hashtager</td>\n",
       "      <td>0</td>\n",
       "      <td>1</td>\n",
       "      <td>HashtagGamer</td>\n",
       "    </tr>\n",
       "    <tr>\n",
       "      <th>5</th>\n",
       "      <td>1.674084e+09</td>\n",
       "      <td>GAB1ALDANA</td>\n",
       "      <td>Your opinion on Hillary really matters to a no...</td>\n",
       "      <td>United States</td>\n",
       "      <td>English</td>\n",
       "      <td>7/30/2016 20:16</td>\n",
       "      <td>7/30/2016 20:16</td>\n",
       "      <td>3395</td>\n",
       "      <td>2014</td>\n",
       "      <td>2154</td>\n",
       "      <td>RETWEET</td>\n",
       "      <td>Hashtager</td>\n",
       "      <td>0</td>\n",
       "      <td>1</td>\n",
       "      <td>HashtagGamer</td>\n",
       "    </tr>\n",
       "  </tbody>\n",
       "</table>\n",
       "</div>"
      ],
      "text/plain": [
       "   external_author_id      author  \\\n",
       "0        1.674084e+09  GAB1ALDANA   \n",
       "1        1.674084e+09  GAB1ALDANA   \n",
       "2        1.674084e+09  GAB1ALDANA   \n",
       "4        1.674084e+09  GAB1ALDANA   \n",
       "5        1.674084e+09  GAB1ALDANA   \n",
       "\n",
       "                                             content         region language  \\\n",
       "0  People are too toxic. I think I have people po...  United States  English   \n",
       "1  #NowPlaying Don't Shoot (I'm a Man) by @DEVO -...  United States  English   \n",
       "2  the 'I'm the most boring person in the world' ...  United States  English   \n",
       "4  #MyAchillesHeel Boring narcissists.....nothing...  United States  English   \n",
       "5  Your opinion on Hillary really matters to a no...  United States  English   \n",
       "\n",
       "      publish_date   harvested_date  following  followers  updates post_type  \\\n",
       "0  7/30/2016 20:15  7/30/2016 20:15       3395       2014     2150   RETWEET   \n",
       "1  7/30/2016 20:15  7/30/2016 20:15       3395       2014     2146   RETWEET   \n",
       "2  7/30/2016 20:16  7/30/2016 20:16       3395       2013     2159   RETWEET   \n",
       "4  7/30/2016 20:16  7/30/2016 20:16       3395       2013     2158   RETWEET   \n",
       "5  7/30/2016 20:16  7/30/2016 20:16       3395       2014     2154   RETWEET   \n",
       "\n",
       "  account_type  new_june_2018  retweet account_category  \n",
       "0    Hashtager              0        1     HashtagGamer  \n",
       "1    Hashtager              0        1     HashtagGamer  \n",
       "2    Hashtager              0        1     HashtagGamer  \n",
       "4    Hashtager              0        1     HashtagGamer  \n",
       "5    Hashtager              0        1     HashtagGamer  "
      ]
     },
     "execution_count": 34,
     "metadata": {},
     "output_type": "execute_result"
    }
   ],
   "source": [
    "eng_data4.head()"
   ]
  },
  {
   "cell_type": "code",
   "execution_count": 35,
   "metadata": {},
   "outputs": [
    {
     "data": {
      "text/plain": [
       "(300510, 15)"
      ]
     },
     "execution_count": 35,
     "metadata": {},
     "output_type": "execute_result"
    }
   ],
   "source": [
    "eng_data4.shape"
   ]
  },
  {
   "cell_type": "markdown",
   "metadata": {},
   "source": [
    "# Exploring data5\n"
   ]
  },
  {
   "cell_type": "code",
   "execution_count": 36,
   "metadata": {
    "collapsed": true
   },
   "outputs": [
    {
     "data": {
      "text/html": [
       "<div>\n",
       "<style scoped>\n",
       "    .dataframe tbody tr th:only-of-type {\n",
       "        vertical-align: middle;\n",
       "    }\n",
       "\n",
       "    .dataframe tbody tr th {\n",
       "        vertical-align: top;\n",
       "    }\n",
       "\n",
       "    .dataframe thead th {\n",
       "        text-align: right;\n",
       "    }\n",
       "</style>\n",
       "<table border=\"1\" class=\"dataframe\">\n",
       "  <thead>\n",
       "    <tr style=\"text-align: right;\">\n",
       "      <th></th>\n",
       "      <th>external_author_id</th>\n",
       "      <th>author</th>\n",
       "      <th>content</th>\n",
       "      <th>region</th>\n",
       "      <th>language</th>\n",
       "      <th>publish_date</th>\n",
       "      <th>harvested_date</th>\n",
       "      <th>following</th>\n",
       "      <th>followers</th>\n",
       "      <th>updates</th>\n",
       "      <th>post_type</th>\n",
       "      <th>account_type</th>\n",
       "      <th>new_june_2018</th>\n",
       "      <th>retweet</th>\n",
       "      <th>account_category</th>\n",
       "    </tr>\n",
       "  </thead>\n",
       "  <tbody>\n",
       "    <tr>\n",
       "      <th>0</th>\n",
       "      <td>4.484290e+09</td>\n",
       "      <td>KATHERINESKS</td>\n",
       "      <td>#Trump ist ein Rassist. #WirliebenTrump�</td>\n",
       "      <td>Germany</td>\n",
       "      <td>German</td>\n",
       "      <td>6/16/2016 10:41</td>\n",
       "      <td>6/16/2016 10:41</td>\n",
       "      <td>207</td>\n",
       "      <td>18</td>\n",
       "      <td>48</td>\n",
       "      <td>RETWEET</td>\n",
       "      <td>German</td>\n",
       "      <td>0</td>\n",
       "      <td>1</td>\n",
       "      <td>NonEnglish</td>\n",
       "    </tr>\n",
       "    <tr>\n",
       "      <th>1</th>\n",
       "      <td>4.484290e+09</td>\n",
       "      <td>KATHERINESKS</td>\n",
       "      <td>#WirLiebenTrump Trump versucht nicht zu gewinn...</td>\n",
       "      <td>Germany</td>\n",
       "      <td>German</td>\n",
       "      <td>6/16/2016 10:41</td>\n",
       "      <td>6/16/2016 10:42</td>\n",
       "      <td>207</td>\n",
       "      <td>18</td>\n",
       "      <td>59</td>\n",
       "      <td>RETWEET</td>\n",
       "      <td>German</td>\n",
       "      <td>0</td>\n",
       "      <td>1</td>\n",
       "      <td>NonEnglish</td>\n",
       "    </tr>\n",
       "    <tr>\n",
       "      <th>2</th>\n",
       "      <td>4.484290e+09</td>\n",
       "      <td>KATHERINESKS</td>\n",
       "      <td>#WirLiebenTrump Migration kann nicht sein Prob...</td>\n",
       "      <td>Germany</td>\n",
       "      <td>German</td>\n",
       "      <td>6/16/2016 10:41</td>\n",
       "      <td>6/16/2016 10:41</td>\n",
       "      <td>207</td>\n",
       "      <td>18</td>\n",
       "      <td>58</td>\n",
       "      <td>RETWEET</td>\n",
       "      <td>German</td>\n",
       "      <td>0</td>\n",
       "      <td>1</td>\n",
       "      <td>NonEnglish</td>\n",
       "    </tr>\n",
       "    <tr>\n",
       "      <th>3</th>\n",
       "      <td>4.484290e+09</td>\n",
       "      <td>KATHERINESKS</td>\n",
       "      <td>MrCoreyLSmith #WirLiebenTrump #Trump2016 ist d...</td>\n",
       "      <td>Germany</td>\n",
       "      <td>German</td>\n",
       "      <td>6/16/2016 10:41</td>\n",
       "      <td>6/16/2016 10:41</td>\n",
       "      <td>207</td>\n",
       "      <td>18</td>\n",
       "      <td>51</td>\n",
       "      <td>RETWEET</td>\n",
       "      <td>German</td>\n",
       "      <td>0</td>\n",
       "      <td>1</td>\n",
       "      <td>NonEnglish</td>\n",
       "    </tr>\n",
       "    <tr>\n",
       "      <th>4</th>\n",
       "      <td>4.484290e+09</td>\n",
       "      <td>KATHERINESKS</td>\n",
       "      <td>'@erdollum #WirLiebenTrump Trump liebt Homosex...</td>\n",
       "      <td>Germany</td>\n",
       "      <td>German</td>\n",
       "      <td>6/16/2016 10:41</td>\n",
       "      <td>6/16/2016 10:41</td>\n",
       "      <td>207</td>\n",
       "      <td>18</td>\n",
       "      <td>62</td>\n",
       "      <td>RETWEET</td>\n",
       "      <td>German</td>\n",
       "      <td>0</td>\n",
       "      <td>1</td>\n",
       "      <td>NonEnglish</td>\n",
       "    </tr>\n",
       "  </tbody>\n",
       "</table>\n",
       "</div>"
      ],
      "text/plain": [
       "   external_author_id        author  \\\n",
       "0        4.484290e+09  KATHERINESKS   \n",
       "1        4.484290e+09  KATHERINESKS   \n",
       "2        4.484290e+09  KATHERINESKS   \n",
       "3        4.484290e+09  KATHERINESKS   \n",
       "4        4.484290e+09  KATHERINESKS   \n",
       "\n",
       "                                             content   region language  \\\n",
       "0           #Trump ist ein Rassist. #WirliebenTrump�  Germany   German   \n",
       "1  #WirLiebenTrump Trump versucht nicht zu gewinn...  Germany   German   \n",
       "2  #WirLiebenTrump Migration kann nicht sein Prob...  Germany   German   \n",
       "3  MrCoreyLSmith #WirLiebenTrump #Trump2016 ist d...  Germany   German   \n",
       "4  '@erdollum #WirLiebenTrump Trump liebt Homosex...  Germany   German   \n",
       "\n",
       "      publish_date   harvested_date  following  followers  updates post_type  \\\n",
       "0  6/16/2016 10:41  6/16/2016 10:41        207         18       48   RETWEET   \n",
       "1  6/16/2016 10:41  6/16/2016 10:42        207         18       59   RETWEET   \n",
       "2  6/16/2016 10:41  6/16/2016 10:41        207         18       58   RETWEET   \n",
       "3  6/16/2016 10:41  6/16/2016 10:41        207         18       51   RETWEET   \n",
       "4  6/16/2016 10:41  6/16/2016 10:41        207         18       62   RETWEET   \n",
       "\n",
       "  account_type  new_june_2018  retweet account_category  \n",
       "0       German              0        1       NonEnglish  \n",
       "1       German              0        1       NonEnglish  \n",
       "2       German              0        1       NonEnglish  \n",
       "3       German              0        1       NonEnglish  \n",
       "4       German              0        1       NonEnglish  "
      ]
     },
     "execution_count": 36,
     "metadata": {},
     "output_type": "execute_result"
    }
   ],
   "source": [
    "data5.head()"
   ]
  },
  {
   "cell_type": "code",
   "execution_count": 37,
   "metadata": {
    "collapsed": true
   },
   "outputs": [
    {
     "data": {
      "text/plain": [
       "Index(['external_author_id', 'author', 'content', 'region', 'language',\n",
       "       'publish_date', 'harvested_date', 'following', 'followers', 'updates',\n",
       "       'post_type', 'account_type', 'new_june_2018', 'retweet',\n",
       "       'account_category'],\n",
       "      dtype='object')"
      ]
     },
     "execution_count": 37,
     "metadata": {},
     "output_type": "execute_result"
    }
   ],
   "source": [
    "data5.describe().all\n",
    "data5.columns"
   ]
  },
  {
   "cell_type": "code",
   "execution_count": 38,
   "metadata": {},
   "outputs": [
    {
     "name": "stdout",
     "output_type": "stream",
     "text": [
      "331821 15\n"
     ]
    }
   ],
   "source": [
    "data5.shape\n",
    "rows=data5.shape[0]\n",
    "cols=data5.shape[1]\n",
    "print(rows,cols)"
   ]
  },
  {
   "cell_type": "code",
   "execution_count": 39,
   "metadata": {
    "collapsed": true
   },
   "outputs": [
    {
     "data": {
      "text/plain": [
       "English                167103\n",
       "Russian                119330\n",
       "German                  21414\n",
       "Ukrainian                8574\n",
       "Arabic                   4011\n",
       "Bulgarian                2336\n",
       "Serbian                  1826\n",
       "Uzbek                    1584\n",
       "Macedonian               1161\n",
       "French                   1105\n",
       "LANGUAGE UNDEFINED        665\n",
       "Italian                   663\n",
       "Spanish                   288\n",
       "Norwegian                 236\n",
       "Romanian                  160\n",
       "Farsi (Persian)           141\n",
       "Swedish                   120\n",
       "Vietnamese                118\n",
       "Pushto                    109\n",
       "Dutch                      91\n",
       "Turkish                    80\n",
       "Croatian                   71\n",
       "Finnish                    62\n",
       "Estonian                   55\n",
       "Japanese                   52\n",
       "Catalan                    45\n",
       "Albanian                   43\n",
       "Icelandic                  42\n",
       "Polish                     40\n",
       "Portuguese                 35\n",
       "Kurdish                    34\n",
       "Hungarian                  31\n",
       "Latvian                    27\n",
       "Tagalog (Filipino)         27\n",
       "Lithuanian                 26\n",
       "Slovak                     26\n",
       "Somali                     18\n",
       "Czech                      15\n",
       "Hebrew                      9\n",
       "Malay                       8\n",
       "Indonesian                  7\n",
       "Slovenian                   7\n",
       "Hindi                       6\n",
       "Urdu                        5\n",
       "Danish                      5\n",
       "Thai                        4\n",
       "Korean                      3\n",
       "Greek                       2\n",
       "Traditional Chinese         1\n",
       "Name: language, dtype: int64"
      ]
     },
     "execution_count": 39,
     "metadata": {},
     "output_type": "execute_result"
    }
   ],
   "source": [
    "# data5['author'].value_counts()\n",
    "data5['account_category'].value_counts()\n",
    "data5['post_type'].value_counts()\n",
    "data5['region'].value_counts()\n",
    "data5['language'].value_counts()"
   ]
  },
  {
   "cell_type": "code",
   "execution_count": 40,
   "metadata": {},
   "outputs": [],
   "source": [
    "eng_data5=data5.loc[data4['language']=='English',:]"
   ]
  },
  {
   "cell_type": "code",
   "execution_count": 41,
   "metadata": {
    "scrolled": true
   },
   "outputs": [
    {
     "data": {
      "text/plain": [
       "(251921, 15)"
      ]
     },
     "execution_count": 41,
     "metadata": {},
     "output_type": "execute_result"
    }
   ],
   "source": [
    "eng_data5.shape"
   ]
  },
  {
   "cell_type": "markdown",
   "metadata": {},
   "source": [
    "# Exploring data6"
   ]
  },
  {
   "cell_type": "code",
   "execution_count": 42,
   "metadata": {
    "collapsed": true
   },
   "outputs": [
    {
     "data": {
      "text/html": [
       "<div>\n",
       "<style scoped>\n",
       "    .dataframe tbody tr th:only-of-type {\n",
       "        vertical-align: middle;\n",
       "    }\n",
       "\n",
       "    .dataframe tbody tr th {\n",
       "        vertical-align: top;\n",
       "    }\n",
       "\n",
       "    .dataframe thead th {\n",
       "        text-align: right;\n",
       "    }\n",
       "</style>\n",
       "<table border=\"1\" class=\"dataframe\">\n",
       "  <thead>\n",
       "    <tr style=\"text-align: right;\">\n",
       "      <th></th>\n",
       "      <th>external_author_id</th>\n",
       "      <th>author</th>\n",
       "      <th>content</th>\n",
       "      <th>region</th>\n",
       "      <th>language</th>\n",
       "      <th>publish_date</th>\n",
       "      <th>harvested_date</th>\n",
       "      <th>following</th>\n",
       "      <th>followers</th>\n",
       "      <th>updates</th>\n",
       "      <th>post_type</th>\n",
       "      <th>account_type</th>\n",
       "      <th>new_june_2018</th>\n",
       "      <th>retweet</th>\n",
       "      <th>account_category</th>\n",
       "    </tr>\n",
       "  </thead>\n",
       "  <tbody>\n",
       "    <tr>\n",
       "      <th>0</th>\n",
       "      <td>1.930748e+09</td>\n",
       "      <td>NEVNOV_RU</td>\n",
       "      <td>«ДТП с самим собой» может устроить себе каждый...</td>\n",
       "      <td>United Arab Emirates</td>\n",
       "      <td>Russian</td>\n",
       "      <td>6/30/2015 6:32</td>\n",
       "      <td>6/30/2015 6:32</td>\n",
       "      <td>115</td>\n",
       "      <td>13435</td>\n",
       "      <td>16364</td>\n",
       "      <td>NaN</td>\n",
       "      <td>Russian</td>\n",
       "      <td>0</td>\n",
       "      <td>0</td>\n",
       "      <td>NonEnglish</td>\n",
       "    </tr>\n",
       "    <tr>\n",
       "      <th>1</th>\n",
       "      <td>1.930748e+09</td>\n",
       "      <td>NEVNOV_RU</td>\n",
       "      <td>Кержаков: Я извинился перед Виллаш-Боашем и ск...</td>\n",
       "      <td>United Arab Emirates</td>\n",
       "      <td>Russian</td>\n",
       "      <td>6/30/2015 9:32</td>\n",
       "      <td>6/30/2015 9:32</td>\n",
       "      <td>115</td>\n",
       "      <td>13435</td>\n",
       "      <td>16370</td>\n",
       "      <td>NaN</td>\n",
       "      <td>Russian</td>\n",
       "      <td>0</td>\n",
       "      <td>0</td>\n",
       "      <td>NonEnglish</td>\n",
       "    </tr>\n",
       "    <tr>\n",
       "      <th>2</th>\n",
       "      <td>1.930748e+09</td>\n",
       "      <td>NEVNOV_RU</td>\n",
       "      <td>Бесплатная прачечная с душем появится в Петерб...</td>\n",
       "      <td>United States</td>\n",
       "      <td>Russian</td>\n",
       "      <td>6/30/2016 11:24</td>\n",
       "      <td>6/30/2016 11:27</td>\n",
       "      <td>17237</td>\n",
       "      <td>24956</td>\n",
       "      <td>28528</td>\n",
       "      <td>NaN</td>\n",
       "      <td>Russian</td>\n",
       "      <td>0</td>\n",
       "      <td>0</td>\n",
       "      <td>NonEnglish</td>\n",
       "    </tr>\n",
       "    <tr>\n",
       "      <th>3</th>\n",
       "      <td>1.930748e+09</td>\n",
       "      <td>NEVNOV_RU</td>\n",
       "      <td>Кержакова больше не зовут в \"Зенит\" https://t....</td>\n",
       "      <td>United States</td>\n",
       "      <td>Ukrainian</td>\n",
       "      <td>6/30/2016 12:12</td>\n",
       "      <td>6/30/2016 12:12</td>\n",
       "      <td>17237</td>\n",
       "      <td>24956</td>\n",
       "      <td>28529</td>\n",
       "      <td>NaN</td>\n",
       "      <td>Russian</td>\n",
       "      <td>0</td>\n",
       "      <td>0</td>\n",
       "      <td>NonEnglish</td>\n",
       "    </tr>\n",
       "    <tr>\n",
       "      <th>4</th>\n",
       "      <td>1.930748e+09</td>\n",
       "      <td>NEVNOV_RU</td>\n",
       "      <td>Появилось мобильное приложение, соединяющее лю...</td>\n",
       "      <td>United States</td>\n",
       "      <td>Russian</td>\n",
       "      <td>6/30/2016 13:01</td>\n",
       "      <td>6/30/2016 13:01</td>\n",
       "      <td>17237</td>\n",
       "      <td>24956</td>\n",
       "      <td>28530</td>\n",
       "      <td>NaN</td>\n",
       "      <td>Russian</td>\n",
       "      <td>0</td>\n",
       "      <td>0</td>\n",
       "      <td>NonEnglish</td>\n",
       "    </tr>\n",
       "  </tbody>\n",
       "</table>\n",
       "</div>"
      ],
      "text/plain": [
       "   external_author_id     author  \\\n",
       "0        1.930748e+09  NEVNOV_RU   \n",
       "1        1.930748e+09  NEVNOV_RU   \n",
       "2        1.930748e+09  NEVNOV_RU   \n",
       "3        1.930748e+09  NEVNOV_RU   \n",
       "4        1.930748e+09  NEVNOV_RU   \n",
       "\n",
       "                                             content                region  \\\n",
       "0  «ДТП с самим собой» может устроить себе каждый...  United Arab Emirates   \n",
       "1  Кержаков: Я извинился перед Виллаш-Боашем и ск...  United Arab Emirates   \n",
       "2  Бесплатная прачечная с душем появится в Петерб...         United States   \n",
       "3  Кержакова больше не зовут в \"Зенит\" https://t....         United States   \n",
       "4  Появилось мобильное приложение, соединяющее лю...         United States   \n",
       "\n",
       "    language     publish_date   harvested_date  following  followers  updates  \\\n",
       "0    Russian   6/30/2015 6:32   6/30/2015 6:32        115      13435    16364   \n",
       "1    Russian   6/30/2015 9:32   6/30/2015 9:32        115      13435    16370   \n",
       "2    Russian  6/30/2016 11:24  6/30/2016 11:27      17237      24956    28528   \n",
       "3  Ukrainian  6/30/2016 12:12  6/30/2016 12:12      17237      24956    28529   \n",
       "4    Russian  6/30/2016 13:01  6/30/2016 13:01      17237      24956    28530   \n",
       "\n",
       "  post_type account_type  new_june_2018  retweet account_category  \n",
       "0       NaN      Russian              0        0       NonEnglish  \n",
       "1       NaN      Russian              0        0       NonEnglish  \n",
       "2       NaN      Russian              0        0       NonEnglish  \n",
       "3       NaN      Russian              0        0       NonEnglish  \n",
       "4       NaN      Russian              0        0       NonEnglish  "
      ]
     },
     "execution_count": 42,
     "metadata": {},
     "output_type": "execute_result"
    }
   ],
   "source": [
    "data6.head()"
   ]
  },
  {
   "cell_type": "code",
   "execution_count": 43,
   "metadata": {
    "collapsed": true
   },
   "outputs": [
    {
     "data": {
      "text/plain": [
       "Index(['external_author_id', 'author', 'content', 'region', 'language',\n",
       "       'publish_date', 'harvested_date', 'following', 'followers', 'updates',\n",
       "       'post_type', 'account_type', 'new_june_2018', 'retweet',\n",
       "       'account_category'],\n",
       "      dtype='object')"
      ]
     },
     "execution_count": 43,
     "metadata": {},
     "output_type": "execute_result"
    }
   ],
   "source": [
    "data6.describe().all\n",
    "data6.columns"
   ]
  },
  {
   "cell_type": "code",
   "execution_count": 44,
   "metadata": {},
   "outputs": [
    {
     "name": "stdout",
     "output_type": "stream",
     "text": [
      "324512 15\n"
     ]
    }
   ],
   "source": [
    "data6.shape\n",
    "rows=data6.shape[0]\n",
    "cols=data6.shape[1]\n",
    "print(rows,cols)"
   ]
  },
  {
   "cell_type": "code",
   "execution_count": 45,
   "metadata": {
    "collapsed": true
   },
   "outputs": [
    {
     "data": {
      "text/plain": [
       "English               172021\n",
       "Russian               135030\n",
       "Ukrainian               6728\n",
       "Serbian                 2518\n",
       "Uzbek                   1999\n",
       "Bulgarian               1618\n",
       "German                  1356\n",
       "Macedonian              1055\n",
       "French                  1043\n",
       "LANGUAGE UNDEFINED       219\n",
       "Spanish                  124\n",
       "Italian                  113\n",
       "Arabic                   100\n",
       "Vietnamese                69\n",
       "Dutch                     63\n",
       "Norwegian                 60\n",
       "Farsi (Persian)           46\n",
       "Romanian                  44\n",
       "Croatian                  34\n",
       "Swedish                   29\n",
       "Japanese                  27\n",
       "Catalan                   23\n",
       "Estonian                  21\n",
       "Portuguese                21\n",
       "Albanian                  17\n",
       "Finnish                   13\n",
       "Icelandic                 13\n",
       "Lithuanian                13\n",
       "Hebrew                    10\n",
       "Hungarian                  9\n",
       "Turkish                    9\n",
       "Tagalog (Filipino)         8\n",
       "Kurdish                    8\n",
       "Czech                      7\n",
       "Somali                     6\n",
       "Latvian                    6\n",
       "Polish                     5\n",
       "Pushto                     4\n",
       "Malay                      4\n",
       "Slovenian                  3\n",
       "Korean                     3\n",
       "Slovak                     3\n",
       "Danish                     3\n",
       "Hindi                      2\n",
       "Indonesian                 2\n",
       "Urdu                       2\n",
       "Greek                      1\n",
       "Name: language, dtype: int64"
      ]
     },
     "execution_count": 45,
     "metadata": {},
     "output_type": "execute_result"
    }
   ],
   "source": [
    "# data6['author'].value_counts()\n",
    "data6['account_category'].value_counts()\n",
    "data6['post_type'].value_counts()\n",
    "data6['region'].value_counts()\n",
    "data6['language'].value_counts()"
   ]
  },
  {
   "cell_type": "code",
   "execution_count": 46,
   "metadata": {},
   "outputs": [],
   "source": [
    "eng_data6=data6.loc[data4['language']=='English',:]"
   ]
  },
  {
   "cell_type": "code",
   "execution_count": 47,
   "metadata": {},
   "outputs": [
    {
     "data": {
      "text/plain": [
       "(245488, 15)"
      ]
     },
     "execution_count": 47,
     "metadata": {},
     "output_type": "execute_result"
    }
   ],
   "source": [
    "eng_data6.shape"
   ]
  },
  {
   "cell_type": "markdown",
   "metadata": {},
   "source": [
    "# Exploring data7"
   ]
  },
  {
   "cell_type": "code",
   "execution_count": 48,
   "metadata": {
    "collapsed": true
   },
   "outputs": [
    {
     "data": {
      "text/html": [
       "<div>\n",
       "<style scoped>\n",
       "    .dataframe tbody tr th:only-of-type {\n",
       "        vertical-align: middle;\n",
       "    }\n",
       "\n",
       "    .dataframe tbody tr th {\n",
       "        vertical-align: top;\n",
       "    }\n",
       "\n",
       "    .dataframe thead th {\n",
       "        text-align: right;\n",
       "    }\n",
       "</style>\n",
       "<table border=\"1\" class=\"dataframe\">\n",
       "  <thead>\n",
       "    <tr style=\"text-align: right;\">\n",
       "      <th></th>\n",
       "      <th>external_author_id</th>\n",
       "      <th>author</th>\n",
       "      <th>content</th>\n",
       "      <th>region</th>\n",
       "      <th>language</th>\n",
       "      <th>publish_date</th>\n",
       "      <th>harvested_date</th>\n",
       "      <th>following</th>\n",
       "      <th>followers</th>\n",
       "      <th>updates</th>\n",
       "      <th>post_type</th>\n",
       "      <th>account_type</th>\n",
       "      <th>new_june_2018</th>\n",
       "      <th>retweet</th>\n",
       "      <th>account_category</th>\n",
       "    </tr>\n",
       "  </thead>\n",
       "  <tbody>\n",
       "    <tr>\n",
       "      <th>0</th>\n",
       "      <td>2.260338e+09</td>\n",
       "      <td>POLITICS_T0DAY</td>\n",
       "      <td>https://t.co/MCN0zjJ9Bw https://t.co/0Ym2ssnxzy</td>\n",
       "      <td>United States</td>\n",
       "      <td>Russian</td>\n",
       "      <td>4/14/2017 23:02</td>\n",
       "      <td>4/14/2017 23:02</td>\n",
       "      <td>161</td>\n",
       "      <td>1079</td>\n",
       "      <td>24010</td>\n",
       "      <td>NaN</td>\n",
       "      <td>Russian</td>\n",
       "      <td>0</td>\n",
       "      <td>0</td>\n",
       "      <td>NonEnglish</td>\n",
       "    </tr>\n",
       "    <tr>\n",
       "      <th>1</th>\n",
       "      <td>2.260338e+09</td>\n",
       "      <td>POLITICS_T0DAY</td>\n",
       "      <td>https://t.co/TFIDNR5Dfi https://t.co/wHD4hvmYIg</td>\n",
       "      <td>United States</td>\n",
       "      <td>Russian</td>\n",
       "      <td>4/14/2017 2:02</td>\n",
       "      <td>4/14/2017 2:02</td>\n",
       "      <td>161</td>\n",
       "      <td>1079</td>\n",
       "      <td>23986</td>\n",
       "      <td>NaN</td>\n",
       "      <td>Russian</td>\n",
       "      <td>0</td>\n",
       "      <td>0</td>\n",
       "      <td>NonEnglish</td>\n",
       "    </tr>\n",
       "    <tr>\n",
       "      <th>2</th>\n",
       "      <td>2.260338e+09</td>\n",
       "      <td>POLITICS_T0DAY</td>\n",
       "      <td>Доброе утро, Россия! https://t.co/pNKO5brIsL h...</td>\n",
       "      <td>United States</td>\n",
       "      <td>Russian</td>\n",
       "      <td>4/14/2017 3:02</td>\n",
       "      <td>4/14/2017 3:02</td>\n",
       "      <td>160</td>\n",
       "      <td>1079</td>\n",
       "      <td>23987</td>\n",
       "      <td>NaN</td>\n",
       "      <td>Russian</td>\n",
       "      <td>0</td>\n",
       "      <td>0</td>\n",
       "      <td>NonEnglish</td>\n",
       "    </tr>\n",
       "    <tr>\n",
       "      <th>3</th>\n",
       "      <td>2.260338e+09</td>\n",
       "      <td>POLITICS_T0DAY</td>\n",
       "      <td>\"Кто Вас воспитывал? Кто учил Вас манерам?\" ht...</td>\n",
       "      <td>United States</td>\n",
       "      <td>Russian</td>\n",
       "      <td>4/14/2017 4:02</td>\n",
       "      <td>4/14/2017 4:02</td>\n",
       "      <td>160</td>\n",
       "      <td>1079</td>\n",
       "      <td>23988</td>\n",
       "      <td>NaN</td>\n",
       "      <td>Russian</td>\n",
       "      <td>0</td>\n",
       "      <td>0</td>\n",
       "      <td>NonEnglish</td>\n",
       "    </tr>\n",
       "    <tr>\n",
       "      <th>4</th>\n",
       "      <td>2.260338e+09</td>\n",
       "      <td>POLITICS_T0DAY</td>\n",
       "      <td>Утверждён проект памятника в г. Воронеж ! Ждём...</td>\n",
       "      <td>United States</td>\n",
       "      <td>Russian</td>\n",
       "      <td>4/14/2017 5:02</td>\n",
       "      <td>4/14/2017 5:02</td>\n",
       "      <td>160</td>\n",
       "      <td>1079</td>\n",
       "      <td>23989</td>\n",
       "      <td>NaN</td>\n",
       "      <td>Russian</td>\n",
       "      <td>0</td>\n",
       "      <td>0</td>\n",
       "      <td>NonEnglish</td>\n",
       "    </tr>\n",
       "  </tbody>\n",
       "</table>\n",
       "</div>"
      ],
      "text/plain": [
       "   external_author_id          author  \\\n",
       "0        2.260338e+09  POLITICS_T0DAY   \n",
       "1        2.260338e+09  POLITICS_T0DAY   \n",
       "2        2.260338e+09  POLITICS_T0DAY   \n",
       "3        2.260338e+09  POLITICS_T0DAY   \n",
       "4        2.260338e+09  POLITICS_T0DAY   \n",
       "\n",
       "                                             content         region language  \\\n",
       "0    https://t.co/MCN0zjJ9Bw https://t.co/0Ym2ssnxzy  United States  Russian   \n",
       "1    https://t.co/TFIDNR5Dfi https://t.co/wHD4hvmYIg  United States  Russian   \n",
       "2  Доброе утро, Россия! https://t.co/pNKO5brIsL h...  United States  Russian   \n",
       "3  \"Кто Вас воспитывал? Кто учил Вас манерам?\" ht...  United States  Russian   \n",
       "4  Утверждён проект памятника в г. Воронеж ! Ждём...  United States  Russian   \n",
       "\n",
       "      publish_date   harvested_date  following  followers  updates post_type  \\\n",
       "0  4/14/2017 23:02  4/14/2017 23:02        161       1079    24010       NaN   \n",
       "1   4/14/2017 2:02   4/14/2017 2:02        161       1079    23986       NaN   \n",
       "2   4/14/2017 3:02   4/14/2017 3:02        160       1079    23987       NaN   \n",
       "3   4/14/2017 4:02   4/14/2017 4:02        160       1079    23988       NaN   \n",
       "4   4/14/2017 5:02   4/14/2017 5:02        160       1079    23989       NaN   \n",
       "\n",
       "  account_type  new_june_2018  retweet account_category  \n",
       "0      Russian              0        0       NonEnglish  \n",
       "1      Russian              0        0       NonEnglish  \n",
       "2      Russian              0        0       NonEnglish  \n",
       "3      Russian              0        0       NonEnglish  \n",
       "4      Russian              0        0       NonEnglish  "
      ]
     },
     "execution_count": 48,
     "metadata": {},
     "output_type": "execute_result"
    }
   ],
   "source": [
    "data7.head()"
   ]
  },
  {
   "cell_type": "code",
   "execution_count": 49,
   "metadata": {
    "collapsed": true
   },
   "outputs": [
    {
     "data": {
      "text/plain": [
       "Index(['external_author_id', 'author', 'content', 'region', 'language',\n",
       "       'publish_date', 'harvested_date', 'following', 'followers', 'updates',\n",
       "       'post_type', 'account_type', 'new_june_2018', 'retweet',\n",
       "       'account_category'],\n",
       "      dtype='object')"
      ]
     },
     "execution_count": 49,
     "metadata": {},
     "output_type": "execute_result"
    }
   ],
   "source": [
    "data7.describe().all\n",
    "data7.columns"
   ]
  },
  {
   "cell_type": "code",
   "execution_count": 50,
   "metadata": {
    "collapsed": true
   },
   "outputs": [
    {
     "name": "stdout",
     "output_type": "stream",
     "text": [
      "365603 15\n"
     ]
    }
   ],
   "source": [
    "data7.shape\n",
    "rows=data7.shape[0]\n",
    "cols=data7.shape[1]\n",
    "print(rows,cols)"
   ]
  },
  {
   "cell_type": "code",
   "execution_count": 51,
   "metadata": {
    "collapsed": true
   },
   "outputs": [
    {
     "data": {
      "text/plain": [
       "English               250478\n",
       "Russian                97853\n",
       "Ukrainian               5803\n",
       "German                  1960\n",
       "Bulgarian               1688\n",
       "Italian                 1652\n",
       "Uzbek                   1409\n",
       "Serbian                 1368\n",
       "Arabic                   874\n",
       "Macedonian               745\n",
       "Spanish                  266\n",
       "French                   198\n",
       "LANGUAGE UNDEFINED       183\n",
       "Romanian                 124\n",
       "Norwegian                108\n",
       "Vietnamese                96\n",
       "Catalan                   88\n",
       "Pushto                    77\n",
       "Farsi (Persian)           75\n",
       "Croatian                  65\n",
       "Dutch                     60\n",
       "Malay                     57\n",
       "Albanian                  44\n",
       "Portuguese                35\n",
       "Estonian                  33\n",
       "Swedish                   28\n",
       "Somali                    25\n",
       "Japanese                  22\n",
       "Icelandic                 22\n",
       "Finnish                   20\n",
       "Polish                    20\n",
       "Latvian                   18\n",
       "Czech                     14\n",
       "Turkish                   13\n",
       "Tagalog (Filipino)        11\n",
       "Hungarian                 10\n",
       "Lithuanian                 9\n",
       "Kurdish                    9\n",
       "Indonesian                 8\n",
       "Slovak                     6\n",
       "Slovenian                  6\n",
       "Urdu                       4\n",
       "Greek                      4\n",
       "Simplified Chinese         4\n",
       "Hindi                      4\n",
       "Danish                     3\n",
       "Hebrew                     2\n",
       "Korean                     1\n",
       "Thai                       1\n",
       "Name: language, dtype: int64"
      ]
     },
     "execution_count": 51,
     "metadata": {},
     "output_type": "execute_result"
    }
   ],
   "source": [
    "# data7['author'].value_counts()\n",
    "data7['account_category'].value_counts()\n",
    "data7['post_type'].value_counts()\n",
    "data7['region'].value_counts()\n",
    "data7['language'].value_counts()"
   ]
  },
  {
   "cell_type": "code",
   "execution_count": 52,
   "metadata": {},
   "outputs": [],
   "source": [
    "eng_data7=data7.loc[data7['language']=='English',:]"
   ]
  },
  {
   "cell_type": "code",
   "execution_count": 53,
   "metadata": {},
   "outputs": [
    {
     "data": {
      "text/plain": [
       "(250478, 15)"
      ]
     },
     "execution_count": 53,
     "metadata": {},
     "output_type": "execute_result"
    }
   ],
   "source": [
    "eng_data7.shape"
   ]
  },
  {
   "cell_type": "markdown",
   "metadata": {},
   "source": [
    "# Exploring data8"
   ]
  },
  {
   "cell_type": "code",
   "execution_count": 54,
   "metadata": {
    "collapsed": true
   },
   "outputs": [
    {
     "data": {
      "text/html": [
       "<div>\n",
       "<style scoped>\n",
       "    .dataframe tbody tr th:only-of-type {\n",
       "        vertical-align: middle;\n",
       "    }\n",
       "\n",
       "    .dataframe tbody tr th {\n",
       "        vertical-align: top;\n",
       "    }\n",
       "\n",
       "    .dataframe thead th {\n",
       "        text-align: right;\n",
       "    }\n",
       "</style>\n",
       "<table border=\"1\" class=\"dataframe\">\n",
       "  <thead>\n",
       "    <tr style=\"text-align: right;\">\n",
       "      <th></th>\n",
       "      <th>external_author_id</th>\n",
       "      <th>author</th>\n",
       "      <th>content</th>\n",
       "      <th>region</th>\n",
       "      <th>language</th>\n",
       "      <th>publish_date</th>\n",
       "      <th>harvested_date</th>\n",
       "      <th>following</th>\n",
       "      <th>followers</th>\n",
       "      <th>updates</th>\n",
       "      <th>post_type</th>\n",
       "      <th>account_type</th>\n",
       "      <th>new_june_2018</th>\n",
       "      <th>retweet</th>\n",
       "      <th>account_category</th>\n",
       "    </tr>\n",
       "  </thead>\n",
       "  <tbody>\n",
       "    <tr>\n",
       "      <th>0</th>\n",
       "      <td>1.651693e+09</td>\n",
       "      <td>STAYWOKE88</td>\n",
       "      <td>#Illinois Dairy #Queen Franchisee Loses Store ...</td>\n",
       "      <td>United States</td>\n",
       "      <td>English</td>\n",
       "      <td>1/10/2017 0:43</td>\n",
       "      <td>1/10/2017 0:44</td>\n",
       "      <td>549</td>\n",
       "      <td>465</td>\n",
       "      <td>3574</td>\n",
       "      <td>RETWEET</td>\n",
       "      <td>left</td>\n",
       "      <td>0</td>\n",
       "      <td>1</td>\n",
       "      <td>LeftTroll</td>\n",
       "    </tr>\n",
       "    <tr>\n",
       "      <th>1</th>\n",
       "      <td>1.651693e+09</td>\n",
       "      <td>STAYWOKE88</td>\n",
       "      <td>#NoEthicsNoHearing https://t.co/q8suwAO2sB</td>\n",
       "      <td>United States</td>\n",
       "      <td>English</td>\n",
       "      <td>1/10/2017 0:44</td>\n",
       "      <td>1/10/2017 0:44</td>\n",
       "      <td>549</td>\n",
       "      <td>465</td>\n",
       "      <td>3575</td>\n",
       "      <td>RETWEET</td>\n",
       "      <td>left</td>\n",
       "      <td>0</td>\n",
       "      <td>1</td>\n",
       "      <td>LeftTroll</td>\n",
       "    </tr>\n",
       "    <tr>\n",
       "      <th>2</th>\n",
       "      <td>1.651693e+09</td>\n",
       "      <td>STAYWOKE88</td>\n",
       "      <td>Progressive narratives about what’s driving ma...</td>\n",
       "      <td>United States</td>\n",
       "      <td>English</td>\n",
       "      <td>1/10/2017 12:50</td>\n",
       "      <td>1/10/2017 12:51</td>\n",
       "      <td>549</td>\n",
       "      <td>466</td>\n",
       "      <td>3594</td>\n",
       "      <td>RETWEET</td>\n",
       "      <td>left</td>\n",
       "      <td>0</td>\n",
       "      <td>1</td>\n",
       "      <td>LeftTroll</td>\n",
       "    </tr>\n",
       "    <tr>\n",
       "      <th>3</th>\n",
       "      <td>1.651693e+09</td>\n",
       "      <td>STAYWOKE88</td>\n",
       "      <td>Finally found his twin. Mitch McConnell https:...</td>\n",
       "      <td>United States</td>\n",
       "      <td>English</td>\n",
       "      <td>1/10/2017 12:50</td>\n",
       "      <td>1/10/2017 12:50</td>\n",
       "      <td>549</td>\n",
       "      <td>466</td>\n",
       "      <td>3592</td>\n",
       "      <td>RETWEET</td>\n",
       "      <td>left</td>\n",
       "      <td>0</td>\n",
       "      <td>1</td>\n",
       "      <td>LeftTroll</td>\n",
       "    </tr>\n",
       "    <tr>\n",
       "      <th>4</th>\n",
       "      <td>1.651693e+09</td>\n",
       "      <td>STAYWOKE88</td>\n",
       "      <td>#DonnieDipshit: \"Confirmations r going great\"....</td>\n",
       "      <td>United States</td>\n",
       "      <td>English</td>\n",
       "      <td>1/10/2017 12:50</td>\n",
       "      <td>1/10/2017 12:51</td>\n",
       "      <td>549</td>\n",
       "      <td>466</td>\n",
       "      <td>3593</td>\n",
       "      <td>RETWEET</td>\n",
       "      <td>left</td>\n",
       "      <td>0</td>\n",
       "      <td>1</td>\n",
       "      <td>LeftTroll</td>\n",
       "    </tr>\n",
       "  </tbody>\n",
       "</table>\n",
       "</div>"
      ],
      "text/plain": [
       "   external_author_id      author  \\\n",
       "0        1.651693e+09  STAYWOKE88   \n",
       "1        1.651693e+09  STAYWOKE88   \n",
       "2        1.651693e+09  STAYWOKE88   \n",
       "3        1.651693e+09  STAYWOKE88   \n",
       "4        1.651693e+09  STAYWOKE88   \n",
       "\n",
       "                                             content         region language  \\\n",
       "0  #Illinois Dairy #Queen Franchisee Loses Store ...  United States  English   \n",
       "1         #NoEthicsNoHearing https://t.co/q8suwAO2sB  United States  English   \n",
       "2  Progressive narratives about what’s driving ma...  United States  English   \n",
       "3  Finally found his twin. Mitch McConnell https:...  United States  English   \n",
       "4  #DonnieDipshit: \"Confirmations r going great\"....  United States  English   \n",
       "\n",
       "      publish_date   harvested_date  following  followers  updates post_type  \\\n",
       "0   1/10/2017 0:43   1/10/2017 0:44        549        465     3574   RETWEET   \n",
       "1   1/10/2017 0:44   1/10/2017 0:44        549        465     3575   RETWEET   \n",
       "2  1/10/2017 12:50  1/10/2017 12:51        549        466     3594   RETWEET   \n",
       "3  1/10/2017 12:50  1/10/2017 12:50        549        466     3592   RETWEET   \n",
       "4  1/10/2017 12:50  1/10/2017 12:51        549        466     3593   RETWEET   \n",
       "\n",
       "  account_type  new_june_2018  retweet account_category  \n",
       "0         left              0        1        LeftTroll  \n",
       "1         left              0        1        LeftTroll  \n",
       "2         left              0        1        LeftTroll  \n",
       "3         left              0        1        LeftTroll  \n",
       "4         left              0        1        LeftTroll  "
      ]
     },
     "execution_count": 54,
     "metadata": {},
     "output_type": "execute_result"
    }
   ],
   "source": [
    "data8.head()"
   ]
  },
  {
   "cell_type": "code",
   "execution_count": 55,
   "metadata": {
    "collapsed": true
   },
   "outputs": [
    {
     "data": {
      "text/plain": [
       "Index(['external_author_id', 'author', 'content', 'region', 'language',\n",
       "       'publish_date', 'harvested_date', 'following', 'followers', 'updates',\n",
       "       'post_type', 'account_type', 'new_june_2018', 'retweet',\n",
       "       'account_category'],\n",
       "      dtype='object')"
      ]
     },
     "execution_count": 55,
     "metadata": {},
     "output_type": "execute_result"
    }
   ],
   "source": [
    "data8.describe().all\n",
    "data8.columns"
   ]
  },
  {
   "cell_type": "code",
   "execution_count": 56,
   "metadata": {},
   "outputs": [
    {
     "name": "stdout",
     "output_type": "stream",
     "text": [
      "378295 15\n"
     ]
    }
   ],
   "source": [
    "data8.shape\n",
    "rows=data8.shape[0]\n",
    "cols=data8.shape[1]\n",
    "print(rows,cols)"
   ]
  },
  {
   "cell_type": "code",
   "execution_count": 57,
   "metadata": {
    "collapsed": true
   },
   "outputs": [
    {
     "data": {
      "text/plain": [
       "English               294157\n",
       "Russian                64718\n",
       "German                  7507\n",
       "Ukrainian               4166\n",
       "Italian                 1964\n",
       "Uzbek                   1091\n",
       "Serbian                  951\n",
       "Bulgarian                905\n",
       "Macedonian               597\n",
       "Spanish                  298\n",
       "French                   268\n",
       "Norwegian                206\n",
       "Arabic                   148\n",
       "Portuguese               145\n",
       "Romanian                 131\n",
       "Farsi (Persian)          119\n",
       "Swedish                  109\n",
       "Dutch                     93\n",
       "Vietnamese                84\n",
       "Croatian                  62\n",
       "Estonian                  62\n",
       "Catalan                   54\n",
       "Japanese                  46\n",
       "Lithuanian                41\n",
       "Albanian                  38\n",
       "Pushto                    32\n",
       "Tagalog (Filipino)        32\n",
       "Icelandic                 30\n",
       "Finnish                   29\n",
       "Polish                    26\n",
       "Czech                     19\n",
       "Somali                    19\n",
       "LANGUAGE UNDEFINED        18\n",
       "Turkish                   18\n",
       "Kurdish                   18\n",
       "Slovak                    15\n",
       "Latvian                   14\n",
       "Malay                     11\n",
       "Hungarian                 10\n",
       "Danish                     9\n",
       "Indonesian                 7\n",
       "Hebrew                     7\n",
       "Slovenian                  6\n",
       "Hindi                      4\n",
       "Korean                     3\n",
       "Greek                      3\n",
       "Urdu                       3\n",
       "Simplified Chinese         1\n",
       "Thai                       1\n",
       "Name: language, dtype: int64"
      ]
     },
     "execution_count": 57,
     "metadata": {},
     "output_type": "execute_result"
    }
   ],
   "source": [
    "# data8['author'].value_counts()\n",
    "data8['account_category'].value_counts()\n",
    "data8['post_type'].value_counts()\n",
    "data8['region'].value_counts()\n",
    "data8['language'].value_counts()"
   ]
  },
  {
   "cell_type": "code",
   "execution_count": 58,
   "metadata": {},
   "outputs": [],
   "source": [
    "eng_data8=data8.loc[data8['language']=='English',:]"
   ]
  },
  {
   "cell_type": "code",
   "execution_count": 59,
   "metadata": {},
   "outputs": [
    {
     "data": {
      "text/plain": [
       "(294157, 15)"
      ]
     },
     "execution_count": 59,
     "metadata": {},
     "output_type": "execute_result"
    }
   ],
   "source": [
    "eng_data8.shape"
   ]
  },
  {
   "cell_type": "markdown",
   "metadata": {},
   "source": [
    "# Exploring data9"
   ]
  },
  {
   "cell_type": "code",
   "execution_count": 60,
   "metadata": {
    "collapsed": true
   },
   "outputs": [
    {
     "data": {
      "text/html": [
       "<div>\n",
       "<style scoped>\n",
       "    .dataframe tbody tr th:only-of-type {\n",
       "        vertical-align: middle;\n",
       "    }\n",
       "\n",
       "    .dataframe tbody tr th {\n",
       "        vertical-align: top;\n",
       "    }\n",
       "\n",
       "    .dataframe thead th {\n",
       "        text-align: right;\n",
       "    }\n",
       "</style>\n",
       "<table border=\"1\" class=\"dataframe\">\n",
       "  <thead>\n",
       "    <tr style=\"text-align: right;\">\n",
       "      <th></th>\n",
       "      <th>external_author_id</th>\n",
       "      <th>author</th>\n",
       "      <th>content</th>\n",
       "      <th>region</th>\n",
       "      <th>language</th>\n",
       "      <th>publish_date</th>\n",
       "      <th>harvested_date</th>\n",
       "      <th>following</th>\n",
       "      <th>followers</th>\n",
       "      <th>updates</th>\n",
       "      <th>post_type</th>\n",
       "      <th>account_type</th>\n",
       "      <th>new_june_2018</th>\n",
       "      <th>retweet</th>\n",
       "      <th>account_category</th>\n",
       "    </tr>\n",
       "  </thead>\n",
       "  <tbody>\n",
       "    <tr>\n",
       "      <th>0</th>\n",
       "      <td>1.513801e+09</td>\n",
       "      <td>YOUJUSTCTRLC</td>\n",
       "      <td>I went to Homegoods to get a table runner and ...</td>\n",
       "      <td>United States</td>\n",
       "      <td>English</td>\n",
       "      <td>1/8/2017 1:57</td>\n",
       "      <td>1/8/2017 1:57</td>\n",
       "      <td>2655</td>\n",
       "      <td>2724</td>\n",
       "      <td>3015</td>\n",
       "      <td>RETWEET</td>\n",
       "      <td>left</td>\n",
       "      <td>0</td>\n",
       "      <td>1</td>\n",
       "      <td>LeftTroll</td>\n",
       "    </tr>\n",
       "    <tr>\n",
       "      <th>1</th>\n",
       "      <td>1.513801e+09</td>\n",
       "      <td>YOUJUSTCTRLC</td>\n",
       "      <td>The education of the masses, which should begi...</td>\n",
       "      <td>United States</td>\n",
       "      <td>English</td>\n",
       "      <td>1/8/2017 1:57</td>\n",
       "      <td>1/8/2017 1:57</td>\n",
       "      <td>2655</td>\n",
       "      <td>2724</td>\n",
       "      <td>3014</td>\n",
       "      <td>RETWEET</td>\n",
       "      <td>left</td>\n",
       "      <td>0</td>\n",
       "      <td>1</td>\n",
       "      <td>LeftTroll</td>\n",
       "    </tr>\n",
       "    <tr>\n",
       "      <th>2</th>\n",
       "      <td>1.513801e+09</td>\n",
       "      <td>YOUJUSTCTRLC</td>\n",
       "      <td>#SciFiSunday: Interview With Fantasy Writer Ab...</td>\n",
       "      <td>United States</td>\n",
       "      <td>English</td>\n",
       "      <td>1/8/2017 20:02</td>\n",
       "      <td>1/8/2017 20:02</td>\n",
       "      <td>2657</td>\n",
       "      <td>2725</td>\n",
       "      <td>3024</td>\n",
       "      <td>RETWEET</td>\n",
       "      <td>left</td>\n",
       "      <td>0</td>\n",
       "      <td>1</td>\n",
       "      <td>LeftTroll</td>\n",
       "    </tr>\n",
       "    <tr>\n",
       "      <th>3</th>\n",
       "      <td>1.513801e+09</td>\n",
       "      <td>YOUJUSTCTRLC</td>\n",
       "      <td>\"The original purpose of the plantation was to...</td>\n",
       "      <td>United States</td>\n",
       "      <td>English</td>\n",
       "      <td>1/8/2017 20:02</td>\n",
       "      <td>1/8/2017 20:02</td>\n",
       "      <td>2657</td>\n",
       "      <td>2725</td>\n",
       "      <td>3021</td>\n",
       "      <td>RETWEET</td>\n",
       "      <td>left</td>\n",
       "      <td>0</td>\n",
       "      <td>1</td>\n",
       "      <td>LeftTroll</td>\n",
       "    </tr>\n",
       "    <tr>\n",
       "      <th>4</th>\n",
       "      <td>1.513801e+09</td>\n",
       "      <td>YOUJUSTCTRLC</td>\n",
       "      <td>Begging for her back R&amp;amp;B &amp;gt; Fuck that bi...</td>\n",
       "      <td>United States</td>\n",
       "      <td>English</td>\n",
       "      <td>1/8/2017 7:57</td>\n",
       "      <td>1/8/2017 7:57</td>\n",
       "      <td>2657</td>\n",
       "      <td>2723</td>\n",
       "      <td>3017</td>\n",
       "      <td>RETWEET</td>\n",
       "      <td>left</td>\n",
       "      <td>0</td>\n",
       "      <td>1</td>\n",
       "      <td>LeftTroll</td>\n",
       "    </tr>\n",
       "  </tbody>\n",
       "</table>\n",
       "</div>"
      ],
      "text/plain": [
       "   external_author_id        author  \\\n",
       "0        1.513801e+09  YOUJUSTCTRLC   \n",
       "1        1.513801e+09  YOUJUSTCTRLC   \n",
       "2        1.513801e+09  YOUJUSTCTRLC   \n",
       "3        1.513801e+09  YOUJUSTCTRLC   \n",
       "4        1.513801e+09  YOUJUSTCTRLC   \n",
       "\n",
       "                                             content         region language  \\\n",
       "0  I went to Homegoods to get a table runner and ...  United States  English   \n",
       "1  The education of the masses, which should begi...  United States  English   \n",
       "2  #SciFiSunday: Interview With Fantasy Writer Ab...  United States  English   \n",
       "3  \"The original purpose of the plantation was to...  United States  English   \n",
       "4  Begging for her back R&amp;B &gt; Fuck that bi...  United States  English   \n",
       "\n",
       "     publish_date  harvested_date  following  followers  updates post_type  \\\n",
       "0   1/8/2017 1:57   1/8/2017 1:57       2655       2724     3015   RETWEET   \n",
       "1   1/8/2017 1:57   1/8/2017 1:57       2655       2724     3014   RETWEET   \n",
       "2  1/8/2017 20:02  1/8/2017 20:02       2657       2725     3024   RETWEET   \n",
       "3  1/8/2017 20:02  1/8/2017 20:02       2657       2725     3021   RETWEET   \n",
       "4   1/8/2017 7:57   1/8/2017 7:57       2657       2723     3017   RETWEET   \n",
       "\n",
       "  account_type  new_june_2018  retweet account_category  \n",
       "0         left              0        1        LeftTroll  \n",
       "1         left              0        1        LeftTroll  \n",
       "2         left              0        1        LeftTroll  \n",
       "3         left              0        1        LeftTroll  \n",
       "4         left              0        1        LeftTroll  "
      ]
     },
     "execution_count": 60,
     "metadata": {},
     "output_type": "execute_result"
    }
   ],
   "source": [
    "data9.head()"
   ]
  },
  {
   "cell_type": "code",
   "execution_count": 61,
   "metadata": {
    "collapsed": true
   },
   "outputs": [
    {
     "data": {
      "text/plain": [
       "Index(['external_author_id', 'author', 'content', 'region', 'language',\n",
       "       'publish_date', 'harvested_date', 'following', 'followers', 'updates',\n",
       "       'post_type', 'account_type', 'new_june_2018', 'retweet',\n",
       "       'account_category'],\n",
       "      dtype='object')"
      ]
     },
     "execution_count": 61,
     "metadata": {},
     "output_type": "execute_result"
    }
   ],
   "source": [
    "data9.describe().all\n",
    "data9.columns"
   ]
  },
  {
   "cell_type": "code",
   "execution_count": 62,
   "metadata": {},
   "outputs": [
    {
     "name": "stdout",
     "output_type": "stream",
     "text": [
      "37555 15\n"
     ]
    }
   ],
   "source": [
    "data9.shape\n",
    "rows=data9.shape[0]\n",
    "cols=data9.shape[1]\n",
    "print(rows,cols)"
   ]
  },
  {
   "cell_type": "code",
   "execution_count": 63,
   "metadata": {
    "collapsed": true
   },
   "outputs": [
    {
     "data": {
      "text/plain": [
       "Russian               19025\n",
       "English               15548\n",
       "Ukrainian              1336\n",
       "Uzbek                   304\n",
       "Serbian                 275\n",
       "Bulgarian               253\n",
       "German                  216\n",
       "LANGUAGE UNDEFINED      212\n",
       "Macedonian              146\n",
       "Spanish                  40\n",
       "French                   32\n",
       "Italian                  18\n",
       "Vietnamese               18\n",
       "Romanian                 17\n",
       "Dutch                    12\n",
       "Arabic                   11\n",
       "Farsi (Persian)          10\n",
       "Norwegian                 9\n",
       "Portuguese                8\n",
       "Albanian                  8\n",
       "Croatian                  6\n",
       "Swedish                   5\n",
       "Japanese                  4\n",
       "Icelandic                 4\n",
       "Finnish                   3\n",
       "Czech                     3\n",
       "Hindi                     3\n",
       "Polish                    3\n",
       "Estonian                  3\n",
       "Catalan                   3\n",
       "Latvian                   3\n",
       "Lithuanian                3\n",
       "Turkish                   2\n",
       "Pushto                    2\n",
       "Hebrew                    2\n",
       "Hungarian                 1\n",
       "Indonesian                1\n",
       "Korean                    1\n",
       "Urdu                      1\n",
       "Kurdish                   1\n",
       "Malay                     1\n",
       "Tagalog (Filipino)        1\n",
       "Gujarati                  1\n",
       "Name: language, dtype: int64"
      ]
     },
     "execution_count": 63,
     "metadata": {},
     "output_type": "execute_result"
    }
   ],
   "source": [
    "# data9['author'].value_counts()\n",
    "data9['account_category'].value_counts()\n",
    "data9['post_type'].value_counts()\n",
    "data9['region'].value_counts()\n",
    "data9['language'].value_counts()"
   ]
  },
  {
   "cell_type": "code",
   "execution_count": 64,
   "metadata": {},
   "outputs": [],
   "source": [
    "eng_data9=data9.loc[data9['language']=='English',:]"
   ]
  },
  {
   "cell_type": "code",
   "execution_count": 65,
   "metadata": {},
   "outputs": [
    {
     "data": {
      "text/plain": [
       "(15548, 15)"
      ]
     },
     "execution_count": 65,
     "metadata": {},
     "output_type": "execute_result"
    }
   ],
   "source": [
    "eng_data9.shape"
   ]
  }
 ],
 "metadata": {
  "kernelspec": {
   "display_name": "Python 3",
   "language": "python",
   "name": "python3"
  },
  "language_info": {
   "codemirror_mode": {
    "name": "ipython",
    "version": 3
   },
   "file_extension": ".py",
   "mimetype": "text/x-python",
   "name": "python",
   "nbconvert_exporter": "python",
   "pygments_lexer": "ipython3",
   "version": "3.7.6"
  }
 },
 "nbformat": 4,
 "nbformat_minor": 4
}
